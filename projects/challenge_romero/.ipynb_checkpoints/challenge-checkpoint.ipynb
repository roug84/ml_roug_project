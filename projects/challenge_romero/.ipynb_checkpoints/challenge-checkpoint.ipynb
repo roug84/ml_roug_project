{
 "cells": [
  {
   "cell_type": "markdown",
   "id": "cdb0b565-329c-4ed5-b91b-8867db86813d",
   "metadata": {
    "tags": []
   },
   "source": [
    "Welcome to the Artifact coding challenge ! We hope you'll have fun and wish you best of luck 😀"
   ]
  },
  {
   "cell_type": "markdown",
   "id": "856b79bb-96b8-47d8-b1f3-412f26ba2b85",
   "metadata": {},
   "source": [
    "Albert and the ear shells\n",
    "========================="
   ]
  },
  {
   "cell_type": "markdown",
   "id": "b227a79c-a665-4f95-a8d0-b4edd8cd5135",
   "metadata": {},
   "source": [
    "<img src=\"https://upload.wikimedia.org/wikipedia/commons/0/0b/AbaloneInside.jpg\">"
   ]
  },
  {
   "cell_type": "markdown",
   "id": "c54ea6f5-b1e5-4866-b0fb-9b534dc8485c",
   "metadata": {},
   "source": [
    "Ear shells are marine snails\n",
    "\n",
    "The age of ear shells can be determined by cutting the shell through the cone, staining it, and counting the number of rings through a microscope - a boring and time-consuming task. \n",
    "\n",
    "**Albert**, a scientist and **ear shells** specialist, needs your help. He has collected data on his favorite sea creature and asks you to help him understand it. Then, he would like you to develop a model to predict the number of rings of ear shells (a proxy to their age) using other measurements which are easier to obtain."
   ]
  },
  {
   "cell_type": "markdown",
   "id": "b81bdb13-0c07-4778-8677-af9ebe58d09a",
   "metadata": {},
   "source": [
    "# Part 0: Setup"
   ]
  },
  {
   "cell_type": "markdown",
   "id": "c73bfd8e-adb7-40e7-8557-2ef0a7765961",
   "metadata": {},
   "source": [
    "Please include any setup code (including imports) in this section"
   ]
  },
  {
   "cell_type": "markdown",
   "id": "37cc284d-5250-48b1-8f72-f266bfcd94ca",
   "metadata": {},
   "source": [
    "# Part 1: Data understanding"
   ]
  },
  {
   "cell_type": "markdown",
   "id": "225f9fcc-8653-49ce-a5ce-4c21e6f41e21",
   "metadata": {
    "tags": []
   },
   "source": [
    "## Loading, processing and exploring data"
   ]
  },
  {
   "cell_type": "markdown",
   "id": "1ed54525-19b6-4ed9-9344-f99c5bab77c1",
   "metadata": {},
   "source": [
    "Albert has provided you the dataset `abalone.csv`. Please load it and do what every diligent Data Scientist should do when received a new dataset !"
   ]
  },
  {
   "cell_type": "markdown",
   "id": "dbb318c6-7834-4d12-88ff-1d430926199f",
   "metadata": {},
   "source": [
    "## Questions"
   ]
  },
  {
   "cell_type": "markdown",
   "id": "f6e75634-9619-488a-a7a0-cb8c9dc5d9f6",
   "metadata": {},
   "source": [
    "Albert needs your help getting a deeper understanding of one particular aspect of this data: the price of ear shells. Can you help him ?"
   ]
  },
  {
   "cell_type": "markdown",
   "id": "b316264b-f536-49f3-9ef1-1d491307c35b",
   "metadata": {},
   "source": [
    "### Question 1.1"
   ]
  },
  {
   "cell_type": "markdown",
   "id": "5f1435c8-04c2-43a3-8d2d-59d7b6e600dc",
   "metadata": {},
   "source": [
    "What's the **average price** for ear shells with a **diameter** falling outside the interquartile range (of diameter) ?"
   ]
  },
  {
   "cell_type": "markdown",
   "id": "6805854b-eb80-4b62-a210-d622b00a6743",
   "metadata": {},
   "source": [
    "### Question 1.2"
   ]
  },
  {
   "cell_type": "markdown",
   "id": "4d492d02-2b40-4929-b1fe-5692865c3cd9",
   "metadata": {},
   "source": [
    "Albert would like to understand which factors / attributes have been used to determine the price. Please provide him with **one clear visualization** which explicits the dependency between the price and the most relevant attributes."
   ]
  },
  {
   "cell_type": "markdown",
   "id": "2adc46ff-2485-457b-9fac-ae9bfe8f9eb2",
   "metadata": {},
   "source": [
    "# Part 2: Modeling"
   ]
  },
  {
   "cell_type": "markdown",
   "id": "aa4a1708-4d3b-47c8-8ac6-7070cd5fbdc6",
   "metadata": {},
   "source": [
    "Albert loves ML ! He asks you to use your ML skills to train a model that will predict the **number of rings** based on the other attributes.\n",
    "\n",
    "Albert was kind enough to pre-assign the dataset samples to train-test with the `subset` attribute. `test` samples should obviously not be used during the training procedure !"
   ]
  },
  {
   "cell_type": "markdown",
   "id": "b786b4cd",
   "metadata": {
    "collapsed": false,
    "pycharm": {
     "name": "#%% md\n"
    }
   },
   "source": [
    "# Question 2.1"
   ]
  },
  {
   "cell_type": "markdown",
   "id": "94af945c",
   "metadata": {
    "collapsed": false,
    "pycharm": {
     "name": "#%% md\n"
    }
   },
   "source": [
    "Which model will you choose to accomplish this task ? Briefly explain why"
   ]
  },
  {
   "cell_type": "markdown",
   "id": "568952ec-c322-4c01-bd83-b8e72aba9cfd",
   "metadata": {},
   "source": [
    "## Question 2.2"
   ]
  },
  {
   "cell_type": "markdown",
   "id": "e3fb0a55-4211-4537-8ffc-7526e814ad5c",
   "metadata": {},
   "source": [
    "Which metric would you choose to communicate the performance of your model to Albert ? Briefly explain why"
   ]
  },
  {
   "cell_type": "markdown",
   "id": "a5c3f64a-ba5e-4e33-8b3a-354cef4bd8d5",
   "metadata": {},
   "source": [
    "## Question 2.3"
   ]
  },
  {
   "cell_type": "markdown",
   "id": "2f5f39cc-1a73-4d6b-b22f-1f5c399106ff",
   "metadata": {},
   "source": [
    "How's your model performing ? Please provide the value of your chosen metric on the **test samples** and briefly discuss it"
   ]
  },
  {
   "cell_type": "markdown",
   "id": "14fd21af-69b8-41b9-8a89-d9b0bb264520",
   "metadata": {},
   "source": [
    "# The end !"
   ]
  },
  {
   "cell_type": "markdown",
   "id": "c88fa073-627e-4bc7-9052-4afa4733d14f",
   "metadata": {},
   "source": [
    "Thank you for participating in this challenge, we hope you enjoyed it !\n",
    "\n",
    "Don't forget to submit your work by email and to **include a zip of your work** containing:\n",
    "- your notebook `challenge.ipynb`\n",
    "- an export of your notebook as HTML `challenge.html`\n",
    "- a `requirements.txt` file listing your dependencies\n",
    "- an image of your visualization for question 1.2"
   ]
  }
 ],
 "metadata": {
  "kernelspec": {
   "display_name": "Python 3 (ipykernel)",
   "language": "python",
   "name": "python3"
  },
  "language_info": {
   "codemirror_mode": {
    "name": "ipython",
    "version": 3
   },
   "file_extension": ".py",
   "mimetype": "text/x-python",
   "name": "python",
   "nbconvert_exporter": "python",
   "pygments_lexer": "ipython3",
   "version": "3.8.17"
  }
 },
 "nbformat": 4,
 "nbformat_minor": 5
}
