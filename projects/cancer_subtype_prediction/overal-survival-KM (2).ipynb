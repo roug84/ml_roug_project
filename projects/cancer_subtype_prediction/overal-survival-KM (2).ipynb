{
 "cells": [
  {
   "cell_type": "markdown",
   "metadata": {
    "tags": []
   },
   "source": [
    "# Overal-Survival KM\n",
    "\n",
    "Download [Pancan/TCGA](https://www.cell.com/pb-assets/consortium/pancanceratlas/pancani3/index.html), [Pancan/TARGET](https://www.cancer.gov/ccg/research/genome-sequencing/target/about) and [GTEX](https://gtexportal.org) clinical labels and RNA-Seq genes expression computed by the [Toil recompute](https://xenabrowser.net/datapages/?hub=https://toil.xenahubs.net:443) from [Xena](https://xenabrowser.net)."
   ]
  },
  {
   "cell_type": "code",
   "execution_count": 1,
   "metadata": {
    "tags": [
     "Virginie"
    ]
   },
   "outputs": [],
   "source": [
    "import os\n",
    "import numpy as np\n",
    "import pandas as pd\n",
    "import matplotlib.pyplot as plt\n",
    "from sklearn.decomposition import PCA\n",
    "from sklearn.preprocessing import StandardScaler\n",
    "import plotly.graph_objects as go\n",
    "import lifelines  # Bibliothèque pour les analyses de survie\n",
    "\n",
    "\n",
    "# Switch to a scratch data directory so all paths are local\n",
    "# os.makedirs(os.path.expanduser(\"/Users/marion/Documents/ADLIN/Projet_IntegratiOMICS/Données/pancan-gtex-target\"), exist_ok=True)\n",
    "# os.chdir(os.path.expanduser(\"/Users/marion/Documents/ADLIN/Projet_IntegratiOMICS/Données/pancan-gtex-target\"))"
   ]
  },
  {
   "cell_type": "markdown",
   "metadata": {},
   "source": [
    "## Download TCGA survival labels"
   ]
  },
  {
   "cell_type": "code",
   "execution_count": 2,
   "metadata": {
    "tags": []
   },
   "outputs": [],
   "source": [
    "# !wget -q -N https://tcga-pancan-atlas-hub.s3.us-east-1.amazonaws.com/download/Survival_SupplementalTable_S1_20171025_xena_sp"
   ]
  },
  {
   "cell_type": "code",
   "execution_count": 3,
   "metadata": {
    "tags": [
     "Virginie"
    ]
   },
   "outputs": [],
   "source": [
    "survival_labels_tcga = pd.read_table(\n",
    "    \"Survival_SupplementalTable_S1_20171025_xena_sp\", \n",
    "    header=0, sep=\"\\t\", encoding=\"ISO-8859-1\", index_col=0, dtype=\"str\").sort_index(axis=\"index\")"
   ]
  },
  {
   "cell_type": "code",
   "execution_count": 4,
   "metadata": {
    "tags": [
     "Virginie"
    ]
   },
   "outputs": [
    {
     "data": {
      "text/html": [
       "<div>\n",
       "<style scoped>\n",
       "    .dataframe tbody tr th:only-of-type {\n",
       "        vertical-align: middle;\n",
       "    }\n",
       "\n",
       "    .dataframe tbody tr th {\n",
       "        vertical-align: top;\n",
       "    }\n",
       "\n",
       "    .dataframe thead th {\n",
       "        text-align: right;\n",
       "    }\n",
       "</style>\n",
       "<table border=\"1\" class=\"dataframe\">\n",
       "  <thead>\n",
       "    <tr style=\"text-align: right;\">\n",
       "      <th></th>\n",
       "      <th>_PATIENT</th>\n",
       "      <th>cancer type abbreviation</th>\n",
       "      <th>age_at_initial_pathologic_diagnosis</th>\n",
       "      <th>gender</th>\n",
       "      <th>race</th>\n",
       "      <th>ajcc_pathologic_tumor_stage</th>\n",
       "      <th>clinical_stage</th>\n",
       "      <th>histological_type</th>\n",
       "      <th>histological_grade</th>\n",
       "      <th>initial_pathologic_dx_year</th>\n",
       "      <th>menopause_status</th>\n",
       "      <th>birth_days_to</th>\n",
       "      <th>vital_status</th>\n",
       "      <th>tumor_status</th>\n",
       "      <th>last_contact_days_to</th>\n",
       "      <th>death_days_to</th>\n",
       "      <th>cause_of_death</th>\n",
       "      <th>new_tumor_event_type</th>\n",
       "      <th>new_tumor_event_site</th>\n",
       "      <th>new_tumor_event_site_other</th>\n",
       "      <th>new_tumor_event_dx_days_to</th>\n",
       "      <th>treatment_outcome_first_course</th>\n",
       "      <th>margin_status</th>\n",
       "      <th>residual_tumor</th>\n",
       "      <th>OS</th>\n",
       "      <th>OS.time</th>\n",
       "      <th>DSS</th>\n",
       "      <th>DSS.time</th>\n",
       "      <th>DFI</th>\n",
       "      <th>DFI.time</th>\n",
       "      <th>PFI</th>\n",
       "      <th>PFI.time</th>\n",
       "      <th>Redaction</th>\n",
       "    </tr>\n",
       "    <tr>\n",
       "      <th>sample</th>\n",
       "      <th></th>\n",
       "      <th></th>\n",
       "      <th></th>\n",
       "      <th></th>\n",
       "      <th></th>\n",
       "      <th></th>\n",
       "      <th></th>\n",
       "      <th></th>\n",
       "      <th></th>\n",
       "      <th></th>\n",
       "      <th></th>\n",
       "      <th></th>\n",
       "      <th></th>\n",
       "      <th></th>\n",
       "      <th></th>\n",
       "      <th></th>\n",
       "      <th></th>\n",
       "      <th></th>\n",
       "      <th></th>\n",
       "      <th></th>\n",
       "      <th></th>\n",
       "      <th></th>\n",
       "      <th></th>\n",
       "      <th></th>\n",
       "      <th></th>\n",
       "      <th></th>\n",
       "      <th></th>\n",
       "      <th></th>\n",
       "      <th></th>\n",
       "      <th></th>\n",
       "      <th></th>\n",
       "      <th></th>\n",
       "      <th></th>\n",
       "    </tr>\n",
       "  </thead>\n",
       "  <tbody>\n",
       "    <tr>\n",
       "      <th>TCGA-02-0001-01</th>\n",
       "      <td>TCGA-02-0001</td>\n",
       "      <td>GBM</td>\n",
       "      <td>44</td>\n",
       "      <td>FEMALE</td>\n",
       "      <td>WHITE</td>\n",
       "      <td>NaN</td>\n",
       "      <td>NaN</td>\n",
       "      <td>Untreated primary (de novo) GBM</td>\n",
       "      <td>NaN</td>\n",
       "      <td>2002</td>\n",
       "      <td>NaN</td>\n",
       "      <td>-16179</td>\n",
       "      <td>Dead</td>\n",
       "      <td>WITH TUMOR</td>\n",
       "      <td>279</td>\n",
       "      <td>358</td>\n",
       "      <td>NaN</td>\n",
       "      <td>Recurrence</td>\n",
       "      <td>NaN</td>\n",
       "      <td>NaN</td>\n",
       "      <td>137</td>\n",
       "      <td>NaN</td>\n",
       "      <td>NaN</td>\n",
       "      <td>NaN</td>\n",
       "      <td>1</td>\n",
       "      <td>358</td>\n",
       "      <td>1</td>\n",
       "      <td>358</td>\n",
       "      <td>NaN</td>\n",
       "      <td>NaN</td>\n",
       "      <td>1</td>\n",
       "      <td>137</td>\n",
       "      <td>NaN</td>\n",
       "    </tr>\n",
       "    <tr>\n",
       "      <th>TCGA-02-0003-01</th>\n",
       "      <td>TCGA-02-0003</td>\n",
       "      <td>GBM</td>\n",
       "      <td>50</td>\n",
       "      <td>MALE</td>\n",
       "      <td>WHITE</td>\n",
       "      <td>NaN</td>\n",
       "      <td>NaN</td>\n",
       "      <td>Untreated primary (de novo) GBM</td>\n",
       "      <td>NaN</td>\n",
       "      <td>2003</td>\n",
       "      <td>NaN</td>\n",
       "      <td>-18341</td>\n",
       "      <td>Dead</td>\n",
       "      <td>WITH TUMOR</td>\n",
       "      <td>144</td>\n",
       "      <td>144</td>\n",
       "      <td>NaN</td>\n",
       "      <td>Recurrence</td>\n",
       "      <td>NaN</td>\n",
       "      <td>NaN</td>\n",
       "      <td>40</td>\n",
       "      <td>NaN</td>\n",
       "      <td>NaN</td>\n",
       "      <td>NaN</td>\n",
       "      <td>1</td>\n",
       "      <td>144</td>\n",
       "      <td>1</td>\n",
       "      <td>144</td>\n",
       "      <td>NaN</td>\n",
       "      <td>NaN</td>\n",
       "      <td>1</td>\n",
       "      <td>40</td>\n",
       "      <td>NaN</td>\n",
       "    </tr>\n",
       "    <tr>\n",
       "      <th>TCGA-02-0006-01</th>\n",
       "      <td>TCGA-02-0006</td>\n",
       "      <td>GBM</td>\n",
       "      <td>56</td>\n",
       "      <td>FEMALE</td>\n",
       "      <td>WHITE</td>\n",
       "      <td>NaN</td>\n",
       "      <td>NaN</td>\n",
       "      <td>Untreated primary (de novo) GBM</td>\n",
       "      <td>NaN</td>\n",
       "      <td>2002</td>\n",
       "      <td>NaN</td>\n",
       "      <td>-20516</td>\n",
       "      <td>Dead</td>\n",
       "      <td>WITH TUMOR</td>\n",
       "      <td>558</td>\n",
       "      <td>558</td>\n",
       "      <td>NaN</td>\n",
       "      <td>Recurrence</td>\n",
       "      <td>NaN</td>\n",
       "      <td>NaN</td>\n",
       "      <td>302</td>\n",
       "      <td>NaN</td>\n",
       "      <td>NaN</td>\n",
       "      <td>NaN</td>\n",
       "      <td>1</td>\n",
       "      <td>558</td>\n",
       "      <td>1</td>\n",
       "      <td>558</td>\n",
       "      <td>NaN</td>\n",
       "      <td>NaN</td>\n",
       "      <td>1</td>\n",
       "      <td>302</td>\n",
       "      <td>NaN</td>\n",
       "    </tr>\n",
       "    <tr>\n",
       "      <th>TCGA-02-0007-01</th>\n",
       "      <td>TCGA-02-0007</td>\n",
       "      <td>GBM</td>\n",
       "      <td>40</td>\n",
       "      <td>FEMALE</td>\n",
       "      <td>WHITE</td>\n",
       "      <td>NaN</td>\n",
       "      <td>NaN</td>\n",
       "      <td>Treated primary GBM</td>\n",
       "      <td>NaN</td>\n",
       "      <td>2002</td>\n",
       "      <td>NaN</td>\n",
       "      <td>-14806</td>\n",
       "      <td>Dead</td>\n",
       "      <td>WITH TUMOR</td>\n",
       "      <td>705</td>\n",
       "      <td>705</td>\n",
       "      <td>NaN</td>\n",
       "      <td>Progression of Disease</td>\n",
       "      <td>NaN</td>\n",
       "      <td>NaN</td>\n",
       "      <td>518</td>\n",
       "      <td>NaN</td>\n",
       "      <td>NaN</td>\n",
       "      <td>NaN</td>\n",
       "      <td>1</td>\n",
       "      <td>705</td>\n",
       "      <td>1</td>\n",
       "      <td>705</td>\n",
       "      <td>NaN</td>\n",
       "      <td>NaN</td>\n",
       "      <td>1</td>\n",
       "      <td>518</td>\n",
       "      <td>NaN</td>\n",
       "    </tr>\n",
       "    <tr>\n",
       "      <th>TCGA-02-0009-01</th>\n",
       "      <td>TCGA-02-0009</td>\n",
       "      <td>GBM</td>\n",
       "      <td>61</td>\n",
       "      <td>FEMALE</td>\n",
       "      <td>WHITE</td>\n",
       "      <td>NaN</td>\n",
       "      <td>NaN</td>\n",
       "      <td>Untreated primary (de novo) GBM</td>\n",
       "      <td>NaN</td>\n",
       "      <td>2003</td>\n",
       "      <td>NaN</td>\n",
       "      <td>-22457</td>\n",
       "      <td>Dead</td>\n",
       "      <td>WITH TUMOR</td>\n",
       "      <td>322</td>\n",
       "      <td>322</td>\n",
       "      <td>NaN</td>\n",
       "      <td>Progression of Disease</td>\n",
       "      <td>NaN</td>\n",
       "      <td>NaN</td>\n",
       "      <td>264</td>\n",
       "      <td>NaN</td>\n",
       "      <td>NaN</td>\n",
       "      <td>NaN</td>\n",
       "      <td>1</td>\n",
       "      <td>322</td>\n",
       "      <td>1</td>\n",
       "      <td>322</td>\n",
       "      <td>NaN</td>\n",
       "      <td>NaN</td>\n",
       "      <td>1</td>\n",
       "      <td>264</td>\n",
       "      <td>NaN</td>\n",
       "    </tr>\n",
       "  </tbody>\n",
       "</table>\n",
       "</div>"
      ],
      "text/plain": [
       "                     _PATIENT cancer type abbreviation   \n",
       "sample                                                   \n",
       "TCGA-02-0001-01  TCGA-02-0001                      GBM  \\\n",
       "TCGA-02-0003-01  TCGA-02-0003                      GBM   \n",
       "TCGA-02-0006-01  TCGA-02-0006                      GBM   \n",
       "TCGA-02-0007-01  TCGA-02-0007                      GBM   \n",
       "TCGA-02-0009-01  TCGA-02-0009                      GBM   \n",
       "\n",
       "                age_at_initial_pathologic_diagnosis  gender   race   \n",
       "sample                                                               \n",
       "TCGA-02-0001-01                                  44  FEMALE  WHITE  \\\n",
       "TCGA-02-0003-01                                  50    MALE  WHITE   \n",
       "TCGA-02-0006-01                                  56  FEMALE  WHITE   \n",
       "TCGA-02-0007-01                                  40  FEMALE  WHITE   \n",
       "TCGA-02-0009-01                                  61  FEMALE  WHITE   \n",
       "\n",
       "                ajcc_pathologic_tumor_stage clinical_stage   \n",
       "sample                                                       \n",
       "TCGA-02-0001-01                         NaN            NaN  \\\n",
       "TCGA-02-0003-01                         NaN            NaN   \n",
       "TCGA-02-0006-01                         NaN            NaN   \n",
       "TCGA-02-0007-01                         NaN            NaN   \n",
       "TCGA-02-0009-01                         NaN            NaN   \n",
       "\n",
       "                               histological_type histological_grade   \n",
       "sample                                                                \n",
       "TCGA-02-0001-01  Untreated primary (de novo) GBM                NaN  \\\n",
       "TCGA-02-0003-01  Untreated primary (de novo) GBM                NaN   \n",
       "TCGA-02-0006-01  Untreated primary (de novo) GBM                NaN   \n",
       "TCGA-02-0007-01              Treated primary GBM                NaN   \n",
       "TCGA-02-0009-01  Untreated primary (de novo) GBM                NaN   \n",
       "\n",
       "                initial_pathologic_dx_year menopause_status birth_days_to   \n",
       "sample                                                                      \n",
       "TCGA-02-0001-01                       2002              NaN        -16179  \\\n",
       "TCGA-02-0003-01                       2003              NaN        -18341   \n",
       "TCGA-02-0006-01                       2002              NaN        -20516   \n",
       "TCGA-02-0007-01                       2002              NaN        -14806   \n",
       "TCGA-02-0009-01                       2003              NaN        -22457   \n",
       "\n",
       "                vital_status tumor_status last_contact_days_to death_days_to   \n",
       "sample                                                                         \n",
       "TCGA-02-0001-01         Dead   WITH TUMOR                  279           358  \\\n",
       "TCGA-02-0003-01         Dead   WITH TUMOR                  144           144   \n",
       "TCGA-02-0006-01         Dead   WITH TUMOR                  558           558   \n",
       "TCGA-02-0007-01         Dead   WITH TUMOR                  705           705   \n",
       "TCGA-02-0009-01         Dead   WITH TUMOR                  322           322   \n",
       "\n",
       "                cause_of_death    new_tumor_event_type new_tumor_event_site   \n",
       "sample                                                                        \n",
       "TCGA-02-0001-01            NaN              Recurrence                  NaN  \\\n",
       "TCGA-02-0003-01            NaN              Recurrence                  NaN   \n",
       "TCGA-02-0006-01            NaN              Recurrence                  NaN   \n",
       "TCGA-02-0007-01            NaN  Progression of Disease                  NaN   \n",
       "TCGA-02-0009-01            NaN  Progression of Disease                  NaN   \n",
       "\n",
       "                new_tumor_event_site_other new_tumor_event_dx_days_to   \n",
       "sample                                                                  \n",
       "TCGA-02-0001-01                        NaN                        137  \\\n",
       "TCGA-02-0003-01                        NaN                         40   \n",
       "TCGA-02-0006-01                        NaN                        302   \n",
       "TCGA-02-0007-01                        NaN                        518   \n",
       "TCGA-02-0009-01                        NaN                        264   \n",
       "\n",
       "                treatment_outcome_first_course margin_status residual_tumor   \n",
       "sample                                                                        \n",
       "TCGA-02-0001-01                            NaN           NaN            NaN  \\\n",
       "TCGA-02-0003-01                            NaN           NaN            NaN   \n",
       "TCGA-02-0006-01                            NaN           NaN            NaN   \n",
       "TCGA-02-0007-01                            NaN           NaN            NaN   \n",
       "TCGA-02-0009-01                            NaN           NaN            NaN   \n",
       "\n",
       "                OS OS.time DSS DSS.time  DFI DFI.time PFI PFI.time Redaction  \n",
       "sample                                                                        \n",
       "TCGA-02-0001-01  1     358   1      358  NaN      NaN   1      137       NaN  \n",
       "TCGA-02-0003-01  1     144   1      144  NaN      NaN   1       40       NaN  \n",
       "TCGA-02-0006-01  1     558   1      558  NaN      NaN   1      302       NaN  \n",
       "TCGA-02-0007-01  1     705   1      705  NaN      NaN   1      518       NaN  \n",
       "TCGA-02-0009-01  1     322   1      322  NaN      NaN   1      264       NaN  "
      ]
     },
     "execution_count": 4,
     "metadata": {},
     "output_type": "execute_result"
    }
   ],
   "source": [
    "pd.set_option('display.max_columns', None)\n",
    "survival_labels_tcga.head()"
   ]
  },
  {
   "cell_type": "markdown",
   "metadata": {},
   "source": [
    "### TCGA survival labels exploration"
   ]
  },
  {
   "cell_type": "code",
   "execution_count": 5,
   "metadata": {
    "tags": [
     "Virginie"
    ]
   },
   "outputs": [
    {
     "name": "stdout",
     "output_type": "stream",
     "text": [
      "Nombre de lignes : 12591\n",
      "Nombre de colonnes : 33\n"
     ]
    }
   ],
   "source": [
    "num_rows, num_cols = survival_labels_tcga.shape\n",
    "print(\"Nombre de lignes :\", num_rows)\n",
    "print(\"Nombre de colonnes :\", num_cols)"
   ]
  },
  {
   "cell_type": "code",
   "execution_count": 6,
   "metadata": {
    "tags": []
   },
   "outputs": [
    {
     "data": {
      "text/plain": [
       "Index(['_PATIENT', 'cancer type abbreviation',\n",
       "       'age_at_initial_pathologic_diagnosis', 'gender', 'race',\n",
       "       'ajcc_pathologic_tumor_stage', 'clinical_stage', 'histological_type',\n",
       "       'histological_grade', 'initial_pathologic_dx_year', 'menopause_status',\n",
       "       'birth_days_to', 'vital_status', 'tumor_status', 'last_contact_days_to',\n",
       "       'death_days_to', 'cause_of_death', 'new_tumor_event_type',\n",
       "       'new_tumor_event_site', 'new_tumor_event_site_other',\n",
       "       'new_tumor_event_dx_days_to', 'treatment_outcome_first_course',\n",
       "       'margin_status', 'residual_tumor', 'OS', 'OS.time', 'DSS', 'DSS.time',\n",
       "       'DFI', 'DFI.time', 'PFI', 'PFI.time', 'Redaction'],\n",
       "      dtype='object')"
      ]
     },
     "execution_count": 6,
     "metadata": {},
     "output_type": "execute_result"
    }
   ],
   "source": [
    "# Voir https://ucsc-xena.gitbook.io/project/local-xena-hub/km-plots-using-data-from-a-local-xena-hub  \n",
    "column_names = survival_labels_tcga.columns\n",
    "column_names"
   ]
  },
  {
   "cell_type": "markdown",
   "metadata": {},
   "source": [
    "### Drop NA in OS and OS.time"
   ]
  },
  {
   "cell_type": "code",
   "execution_count": 7,
   "metadata": {
    "tags": []
   },
   "outputs": [
    {
     "data": {
      "text/html": [
       "<div>\n",
       "<style scoped>\n",
       "    .dataframe tbody tr th:only-of-type {\n",
       "        vertical-align: middle;\n",
       "    }\n",
       "\n",
       "    .dataframe tbody tr th {\n",
       "        vertical-align: top;\n",
       "    }\n",
       "\n",
       "    .dataframe thead th {\n",
       "        text-align: right;\n",
       "    }\n",
       "</style>\n",
       "<table border=\"1\" class=\"dataframe\">\n",
       "  <thead>\n",
       "    <tr style=\"text-align: right;\">\n",
       "      <th></th>\n",
       "      <th>_PATIENT</th>\n",
       "      <th>cancer type abbreviation</th>\n",
       "      <th>age_at_initial_pathologic_diagnosis</th>\n",
       "      <th>gender</th>\n",
       "      <th>race</th>\n",
       "      <th>ajcc_pathologic_tumor_stage</th>\n",
       "      <th>clinical_stage</th>\n",
       "      <th>histological_type</th>\n",
       "      <th>histological_grade</th>\n",
       "      <th>initial_pathologic_dx_year</th>\n",
       "      <th>menopause_status</th>\n",
       "      <th>birth_days_to</th>\n",
       "      <th>vital_status</th>\n",
       "      <th>tumor_status</th>\n",
       "      <th>last_contact_days_to</th>\n",
       "      <th>death_days_to</th>\n",
       "      <th>cause_of_death</th>\n",
       "      <th>new_tumor_event_type</th>\n",
       "      <th>new_tumor_event_site</th>\n",
       "      <th>new_tumor_event_site_other</th>\n",
       "      <th>new_tumor_event_dx_days_to</th>\n",
       "      <th>treatment_outcome_first_course</th>\n",
       "      <th>margin_status</th>\n",
       "      <th>residual_tumor</th>\n",
       "      <th>OS</th>\n",
       "      <th>OS.time</th>\n",
       "      <th>DSS</th>\n",
       "      <th>DSS.time</th>\n",
       "      <th>DFI</th>\n",
       "      <th>DFI.time</th>\n",
       "      <th>PFI</th>\n",
       "      <th>PFI.time</th>\n",
       "      <th>Redaction</th>\n",
       "    </tr>\n",
       "    <tr>\n",
       "      <th>sample</th>\n",
       "      <th></th>\n",
       "      <th></th>\n",
       "      <th></th>\n",
       "      <th></th>\n",
       "      <th></th>\n",
       "      <th></th>\n",
       "      <th></th>\n",
       "      <th></th>\n",
       "      <th></th>\n",
       "      <th></th>\n",
       "      <th></th>\n",
       "      <th></th>\n",
       "      <th></th>\n",
       "      <th></th>\n",
       "      <th></th>\n",
       "      <th></th>\n",
       "      <th></th>\n",
       "      <th></th>\n",
       "      <th></th>\n",
       "      <th></th>\n",
       "      <th></th>\n",
       "      <th></th>\n",
       "      <th></th>\n",
       "      <th></th>\n",
       "      <th></th>\n",
       "      <th></th>\n",
       "      <th></th>\n",
       "      <th></th>\n",
       "      <th></th>\n",
       "      <th></th>\n",
       "      <th></th>\n",
       "      <th></th>\n",
       "      <th></th>\n",
       "    </tr>\n",
       "  </thead>\n",
       "  <tbody>\n",
       "    <tr>\n",
       "      <th>TCGA-02-0001-01</th>\n",
       "      <td>TCGA-02-0001</td>\n",
       "      <td>GBM</td>\n",
       "      <td>44</td>\n",
       "      <td>FEMALE</td>\n",
       "      <td>WHITE</td>\n",
       "      <td>NaN</td>\n",
       "      <td>NaN</td>\n",
       "      <td>Untreated primary (de novo) GBM</td>\n",
       "      <td>NaN</td>\n",
       "      <td>2002</td>\n",
       "      <td>NaN</td>\n",
       "      <td>-16179</td>\n",
       "      <td>Dead</td>\n",
       "      <td>WITH TUMOR</td>\n",
       "      <td>279</td>\n",
       "      <td>358</td>\n",
       "      <td>NaN</td>\n",
       "      <td>Recurrence</td>\n",
       "      <td>NaN</td>\n",
       "      <td>NaN</td>\n",
       "      <td>137</td>\n",
       "      <td>NaN</td>\n",
       "      <td>NaN</td>\n",
       "      <td>NaN</td>\n",
       "      <td>1</td>\n",
       "      <td>358</td>\n",
       "      <td>1</td>\n",
       "      <td>358</td>\n",
       "      <td>NaN</td>\n",
       "      <td>NaN</td>\n",
       "      <td>1</td>\n",
       "      <td>137</td>\n",
       "      <td>NaN</td>\n",
       "    </tr>\n",
       "    <tr>\n",
       "      <th>TCGA-02-0003-01</th>\n",
       "      <td>TCGA-02-0003</td>\n",
       "      <td>GBM</td>\n",
       "      <td>50</td>\n",
       "      <td>MALE</td>\n",
       "      <td>WHITE</td>\n",
       "      <td>NaN</td>\n",
       "      <td>NaN</td>\n",
       "      <td>Untreated primary (de novo) GBM</td>\n",
       "      <td>NaN</td>\n",
       "      <td>2003</td>\n",
       "      <td>NaN</td>\n",
       "      <td>-18341</td>\n",
       "      <td>Dead</td>\n",
       "      <td>WITH TUMOR</td>\n",
       "      <td>144</td>\n",
       "      <td>144</td>\n",
       "      <td>NaN</td>\n",
       "      <td>Recurrence</td>\n",
       "      <td>NaN</td>\n",
       "      <td>NaN</td>\n",
       "      <td>40</td>\n",
       "      <td>NaN</td>\n",
       "      <td>NaN</td>\n",
       "      <td>NaN</td>\n",
       "      <td>1</td>\n",
       "      <td>144</td>\n",
       "      <td>1</td>\n",
       "      <td>144</td>\n",
       "      <td>NaN</td>\n",
       "      <td>NaN</td>\n",
       "      <td>1</td>\n",
       "      <td>40</td>\n",
       "      <td>NaN</td>\n",
       "    </tr>\n",
       "    <tr>\n",
       "      <th>TCGA-02-0006-01</th>\n",
       "      <td>TCGA-02-0006</td>\n",
       "      <td>GBM</td>\n",
       "      <td>56</td>\n",
       "      <td>FEMALE</td>\n",
       "      <td>WHITE</td>\n",
       "      <td>NaN</td>\n",
       "      <td>NaN</td>\n",
       "      <td>Untreated primary (de novo) GBM</td>\n",
       "      <td>NaN</td>\n",
       "      <td>2002</td>\n",
       "      <td>NaN</td>\n",
       "      <td>-20516</td>\n",
       "      <td>Dead</td>\n",
       "      <td>WITH TUMOR</td>\n",
       "      <td>558</td>\n",
       "      <td>558</td>\n",
       "      <td>NaN</td>\n",
       "      <td>Recurrence</td>\n",
       "      <td>NaN</td>\n",
       "      <td>NaN</td>\n",
       "      <td>302</td>\n",
       "      <td>NaN</td>\n",
       "      <td>NaN</td>\n",
       "      <td>NaN</td>\n",
       "      <td>1</td>\n",
       "      <td>558</td>\n",
       "      <td>1</td>\n",
       "      <td>558</td>\n",
       "      <td>NaN</td>\n",
       "      <td>NaN</td>\n",
       "      <td>1</td>\n",
       "      <td>302</td>\n",
       "      <td>NaN</td>\n",
       "    </tr>\n",
       "    <tr>\n",
       "      <th>TCGA-02-0007-01</th>\n",
       "      <td>TCGA-02-0007</td>\n",
       "      <td>GBM</td>\n",
       "      <td>40</td>\n",
       "      <td>FEMALE</td>\n",
       "      <td>WHITE</td>\n",
       "      <td>NaN</td>\n",
       "      <td>NaN</td>\n",
       "      <td>Treated primary GBM</td>\n",
       "      <td>NaN</td>\n",
       "      <td>2002</td>\n",
       "      <td>NaN</td>\n",
       "      <td>-14806</td>\n",
       "      <td>Dead</td>\n",
       "      <td>WITH TUMOR</td>\n",
       "      <td>705</td>\n",
       "      <td>705</td>\n",
       "      <td>NaN</td>\n",
       "      <td>Progression of Disease</td>\n",
       "      <td>NaN</td>\n",
       "      <td>NaN</td>\n",
       "      <td>518</td>\n",
       "      <td>NaN</td>\n",
       "      <td>NaN</td>\n",
       "      <td>NaN</td>\n",
       "      <td>1</td>\n",
       "      <td>705</td>\n",
       "      <td>1</td>\n",
       "      <td>705</td>\n",
       "      <td>NaN</td>\n",
       "      <td>NaN</td>\n",
       "      <td>1</td>\n",
       "      <td>518</td>\n",
       "      <td>NaN</td>\n",
       "    </tr>\n",
       "    <tr>\n",
       "      <th>TCGA-02-0009-01</th>\n",
       "      <td>TCGA-02-0009</td>\n",
       "      <td>GBM</td>\n",
       "      <td>61</td>\n",
       "      <td>FEMALE</td>\n",
       "      <td>WHITE</td>\n",
       "      <td>NaN</td>\n",
       "      <td>NaN</td>\n",
       "      <td>Untreated primary (de novo) GBM</td>\n",
       "      <td>NaN</td>\n",
       "      <td>2003</td>\n",
       "      <td>NaN</td>\n",
       "      <td>-22457</td>\n",
       "      <td>Dead</td>\n",
       "      <td>WITH TUMOR</td>\n",
       "      <td>322</td>\n",
       "      <td>322</td>\n",
       "      <td>NaN</td>\n",
       "      <td>Progression of Disease</td>\n",
       "      <td>NaN</td>\n",
       "      <td>NaN</td>\n",
       "      <td>264</td>\n",
       "      <td>NaN</td>\n",
       "      <td>NaN</td>\n",
       "      <td>NaN</td>\n",
       "      <td>1</td>\n",
       "      <td>322</td>\n",
       "      <td>1</td>\n",
       "      <td>322</td>\n",
       "      <td>NaN</td>\n",
       "      <td>NaN</td>\n",
       "      <td>1</td>\n",
       "      <td>264</td>\n",
       "      <td>NaN</td>\n",
       "    </tr>\n",
       "    <tr>\n",
       "      <th>...</th>\n",
       "      <td>...</td>\n",
       "      <td>...</td>\n",
       "      <td>...</td>\n",
       "      <td>...</td>\n",
       "      <td>...</td>\n",
       "      <td>...</td>\n",
       "      <td>...</td>\n",
       "      <td>...</td>\n",
       "      <td>...</td>\n",
       "      <td>...</td>\n",
       "      <td>...</td>\n",
       "      <td>...</td>\n",
       "      <td>...</td>\n",
       "      <td>...</td>\n",
       "      <td>...</td>\n",
       "      <td>...</td>\n",
       "      <td>...</td>\n",
       "      <td>...</td>\n",
       "      <td>...</td>\n",
       "      <td>...</td>\n",
       "      <td>...</td>\n",
       "      <td>...</td>\n",
       "      <td>...</td>\n",
       "      <td>...</td>\n",
       "      <td>...</td>\n",
       "      <td>...</td>\n",
       "      <td>...</td>\n",
       "      <td>...</td>\n",
       "      <td>...</td>\n",
       "      <td>...</td>\n",
       "      <td>...</td>\n",
       "      <td>...</td>\n",
       "      <td>...</td>\n",
       "    </tr>\n",
       "    <tr>\n",
       "      <th>TCGA-ZS-A9CG-01</th>\n",
       "      <td>TCGA-ZS-A9CG</td>\n",
       "      <td>LIHC</td>\n",
       "      <td>55</td>\n",
       "      <td>MALE</td>\n",
       "      <td>WHITE</td>\n",
       "      <td>Stage II</td>\n",
       "      <td>NaN</td>\n",
       "      <td>Hepatocellular Carcinoma</td>\n",
       "      <td>G2</td>\n",
       "      <td>2013</td>\n",
       "      <td>NaN</td>\n",
       "      <td>-20100</td>\n",
       "      <td>Alive</td>\n",
       "      <td>TUMOR FREE</td>\n",
       "      <td>341</td>\n",
       "      <td>NaN</td>\n",
       "      <td>NaN</td>\n",
       "      <td>NaN</td>\n",
       "      <td>NaN</td>\n",
       "      <td>NaN</td>\n",
       "      <td>NaN</td>\n",
       "      <td>NaN</td>\n",
       "      <td>NaN</td>\n",
       "      <td>R0</td>\n",
       "      <td>0</td>\n",
       "      <td>341</td>\n",
       "      <td>0</td>\n",
       "      <td>341</td>\n",
       "      <td>0</td>\n",
       "      <td>341</td>\n",
       "      <td>0</td>\n",
       "      <td>341</td>\n",
       "      <td>NaN</td>\n",
       "    </tr>\n",
       "    <tr>\n",
       "      <th>TCGA-ZT-A8OM-01</th>\n",
       "      <td>TCGA-ZT-A8OM</td>\n",
       "      <td>THYM</td>\n",
       "      <td>73</td>\n",
       "      <td>FEMALE</td>\n",
       "      <td>WHITE</td>\n",
       "      <td>NaN</td>\n",
       "      <td>IIb</td>\n",
       "      <td>Thymoma; Type A</td>\n",
       "      <td>NaN</td>\n",
       "      <td>2011</td>\n",
       "      <td>NaN</td>\n",
       "      <td>-26923</td>\n",
       "      <td>Alive</td>\n",
       "      <td>TUMOR FREE</td>\n",
       "      <td>1398</td>\n",
       "      <td>NaN</td>\n",
       "      <td>NaN</td>\n",
       "      <td>NaN</td>\n",
       "      <td>NaN</td>\n",
       "      <td>NaN</td>\n",
       "      <td>NaN</td>\n",
       "      <td>NaN</td>\n",
       "      <td>NaN</td>\n",
       "      <td>NaN</td>\n",
       "      <td>0</td>\n",
       "      <td>1398</td>\n",
       "      <td>0</td>\n",
       "      <td>1398</td>\n",
       "      <td>NaN</td>\n",
       "      <td>NaN</td>\n",
       "      <td>0</td>\n",
       "      <td>1398</td>\n",
       "      <td>NaN</td>\n",
       "    </tr>\n",
       "    <tr>\n",
       "      <th>TCGA-ZU-A8S4-01</th>\n",
       "      <td>TCGA-ZU-A8S4</td>\n",
       "      <td>CHOL</td>\n",
       "      <td>52</td>\n",
       "      <td>MALE</td>\n",
       "      <td>WHITE</td>\n",
       "      <td>Stage I</td>\n",
       "      <td>NaN</td>\n",
       "      <td>Cholangiocarcinoma; intrahepatic</td>\n",
       "      <td>G3</td>\n",
       "      <td>2012</td>\n",
       "      <td>NaN</td>\n",
       "      <td>-19264</td>\n",
       "      <td>Dead</td>\n",
       "      <td>WITH TUMOR</td>\n",
       "      <td>NaN</td>\n",
       "      <td>98</td>\n",
       "      <td>NaN</td>\n",
       "      <td>Intrahepatic Recurrence</td>\n",
       "      <td>Liver</td>\n",
       "      <td>NaN</td>\n",
       "      <td>72</td>\n",
       "      <td>NaN</td>\n",
       "      <td>NaN</td>\n",
       "      <td>R0</td>\n",
       "      <td>1</td>\n",
       "      <td>98</td>\n",
       "      <td>1</td>\n",
       "      <td>98</td>\n",
       "      <td>1</td>\n",
       "      <td>72</td>\n",
       "      <td>1</td>\n",
       "      <td>72</td>\n",
       "      <td>NaN</td>\n",
       "    </tr>\n",
       "    <tr>\n",
       "      <th>TCGA-ZU-A8S4-11</th>\n",
       "      <td>TCGA-ZU-A8S4</td>\n",
       "      <td>CHOL</td>\n",
       "      <td>52</td>\n",
       "      <td>MALE</td>\n",
       "      <td>WHITE</td>\n",
       "      <td>Stage I</td>\n",
       "      <td>NaN</td>\n",
       "      <td>Cholangiocarcinoma; intrahepatic</td>\n",
       "      <td>G3</td>\n",
       "      <td>2012</td>\n",
       "      <td>NaN</td>\n",
       "      <td>-19264</td>\n",
       "      <td>Dead</td>\n",
       "      <td>WITH TUMOR</td>\n",
       "      <td>NaN</td>\n",
       "      <td>98</td>\n",
       "      <td>NaN</td>\n",
       "      <td>Intrahepatic Recurrence</td>\n",
       "      <td>Liver</td>\n",
       "      <td>NaN</td>\n",
       "      <td>72</td>\n",
       "      <td>NaN</td>\n",
       "      <td>NaN</td>\n",
       "      <td>R0</td>\n",
       "      <td>1</td>\n",
       "      <td>98</td>\n",
       "      <td>1</td>\n",
       "      <td>98</td>\n",
       "      <td>1</td>\n",
       "      <td>72</td>\n",
       "      <td>1</td>\n",
       "      <td>72</td>\n",
       "      <td>NaN</td>\n",
       "    </tr>\n",
       "    <tr>\n",
       "      <th>TCGA-ZX-AA5X-01</th>\n",
       "      <td>TCGA-ZX-AA5X</td>\n",
       "      <td>CESC</td>\n",
       "      <td>64</td>\n",
       "      <td>FEMALE</td>\n",
       "      <td>WHITE</td>\n",
       "      <td>NaN</td>\n",
       "      <td>Stage IIIB</td>\n",
       "      <td>Cervical Squamous Cell Carcinoma</td>\n",
       "      <td>G2</td>\n",
       "      <td>2013</td>\n",
       "      <td>Post (prior bilateral ovariectomy OR &gt;12 mo si...</td>\n",
       "      <td>-23440</td>\n",
       "      <td>Alive</td>\n",
       "      <td>WITH TUMOR</td>\n",
       "      <td>119</td>\n",
       "      <td>NaN</td>\n",
       "      <td>NaN</td>\n",
       "      <td>NaN</td>\n",
       "      <td>NaN</td>\n",
       "      <td>NaN</td>\n",
       "      <td>NaN</td>\n",
       "      <td>NaN</td>\n",
       "      <td>NaN</td>\n",
       "      <td>NaN</td>\n",
       "      <td>0</td>\n",
       "      <td>119</td>\n",
       "      <td>0</td>\n",
       "      <td>119</td>\n",
       "      <td>NaN</td>\n",
       "      <td>NaN</td>\n",
       "      <td>0</td>\n",
       "      <td>119</td>\n",
       "      <td>NaN</td>\n",
       "    </tr>\n",
       "  </tbody>\n",
       "</table>\n",
       "<p>12522 rows × 33 columns</p>\n",
       "</div>"
      ],
      "text/plain": [
       "                     _PATIENT cancer type abbreviation   \n",
       "sample                                                   \n",
       "TCGA-02-0001-01  TCGA-02-0001                      GBM  \\\n",
       "TCGA-02-0003-01  TCGA-02-0003                      GBM   \n",
       "TCGA-02-0006-01  TCGA-02-0006                      GBM   \n",
       "TCGA-02-0007-01  TCGA-02-0007                      GBM   \n",
       "TCGA-02-0009-01  TCGA-02-0009                      GBM   \n",
       "...                       ...                      ...   \n",
       "TCGA-ZS-A9CG-01  TCGA-ZS-A9CG                     LIHC   \n",
       "TCGA-ZT-A8OM-01  TCGA-ZT-A8OM                     THYM   \n",
       "TCGA-ZU-A8S4-01  TCGA-ZU-A8S4                     CHOL   \n",
       "TCGA-ZU-A8S4-11  TCGA-ZU-A8S4                     CHOL   \n",
       "TCGA-ZX-AA5X-01  TCGA-ZX-AA5X                     CESC   \n",
       "\n",
       "                age_at_initial_pathologic_diagnosis  gender   race   \n",
       "sample                                                               \n",
       "TCGA-02-0001-01                                  44  FEMALE  WHITE  \\\n",
       "TCGA-02-0003-01                                  50    MALE  WHITE   \n",
       "TCGA-02-0006-01                                  56  FEMALE  WHITE   \n",
       "TCGA-02-0007-01                                  40  FEMALE  WHITE   \n",
       "TCGA-02-0009-01                                  61  FEMALE  WHITE   \n",
       "...                                             ...     ...    ...   \n",
       "TCGA-ZS-A9CG-01                                  55    MALE  WHITE   \n",
       "TCGA-ZT-A8OM-01                                  73  FEMALE  WHITE   \n",
       "TCGA-ZU-A8S4-01                                  52    MALE  WHITE   \n",
       "TCGA-ZU-A8S4-11                                  52    MALE  WHITE   \n",
       "TCGA-ZX-AA5X-01                                  64  FEMALE  WHITE   \n",
       "\n",
       "                ajcc_pathologic_tumor_stage clinical_stage   \n",
       "sample                                                       \n",
       "TCGA-02-0001-01                         NaN            NaN  \\\n",
       "TCGA-02-0003-01                         NaN            NaN   \n",
       "TCGA-02-0006-01                         NaN            NaN   \n",
       "TCGA-02-0007-01                         NaN            NaN   \n",
       "TCGA-02-0009-01                         NaN            NaN   \n",
       "...                                     ...            ...   \n",
       "TCGA-ZS-A9CG-01                    Stage II            NaN   \n",
       "TCGA-ZT-A8OM-01                         NaN            IIb   \n",
       "TCGA-ZU-A8S4-01                     Stage I            NaN   \n",
       "TCGA-ZU-A8S4-11                     Stage I            NaN   \n",
       "TCGA-ZX-AA5X-01                         NaN     Stage IIIB   \n",
       "\n",
       "                                histological_type histological_grade   \n",
       "sample                                                                 \n",
       "TCGA-02-0001-01   Untreated primary (de novo) GBM                NaN  \\\n",
       "TCGA-02-0003-01   Untreated primary (de novo) GBM                NaN   \n",
       "TCGA-02-0006-01   Untreated primary (de novo) GBM                NaN   \n",
       "TCGA-02-0007-01               Treated primary GBM                NaN   \n",
       "TCGA-02-0009-01   Untreated primary (de novo) GBM                NaN   \n",
       "...                                           ...                ...   \n",
       "TCGA-ZS-A9CG-01          Hepatocellular Carcinoma                 G2   \n",
       "TCGA-ZT-A8OM-01                   Thymoma; Type A                NaN   \n",
       "TCGA-ZU-A8S4-01  Cholangiocarcinoma; intrahepatic                 G3   \n",
       "TCGA-ZU-A8S4-11  Cholangiocarcinoma; intrahepatic                 G3   \n",
       "TCGA-ZX-AA5X-01  Cervical Squamous Cell Carcinoma                 G2   \n",
       "\n",
       "                initial_pathologic_dx_year   \n",
       "sample                                       \n",
       "TCGA-02-0001-01                       2002  \\\n",
       "TCGA-02-0003-01                       2003   \n",
       "TCGA-02-0006-01                       2002   \n",
       "TCGA-02-0007-01                       2002   \n",
       "TCGA-02-0009-01                       2003   \n",
       "...                                    ...   \n",
       "TCGA-ZS-A9CG-01                       2013   \n",
       "TCGA-ZT-A8OM-01                       2011   \n",
       "TCGA-ZU-A8S4-01                       2012   \n",
       "TCGA-ZU-A8S4-11                       2012   \n",
       "TCGA-ZX-AA5X-01                       2013   \n",
       "\n",
       "                                                  menopause_status   \n",
       "sample                                                               \n",
       "TCGA-02-0001-01                                                NaN  \\\n",
       "TCGA-02-0003-01                                                NaN   \n",
       "TCGA-02-0006-01                                                NaN   \n",
       "TCGA-02-0007-01                                                NaN   \n",
       "TCGA-02-0009-01                                                NaN   \n",
       "...                                                            ...   \n",
       "TCGA-ZS-A9CG-01                                                NaN   \n",
       "TCGA-ZT-A8OM-01                                                NaN   \n",
       "TCGA-ZU-A8S4-01                                                NaN   \n",
       "TCGA-ZU-A8S4-11                                                NaN   \n",
       "TCGA-ZX-AA5X-01  Post (prior bilateral ovariectomy OR >12 mo si...   \n",
       "\n",
       "                birth_days_to vital_status tumor_status last_contact_days_to   \n",
       "sample                                                                         \n",
       "TCGA-02-0001-01        -16179         Dead   WITH TUMOR                  279  \\\n",
       "TCGA-02-0003-01        -18341         Dead   WITH TUMOR                  144   \n",
       "TCGA-02-0006-01        -20516         Dead   WITH TUMOR                  558   \n",
       "TCGA-02-0007-01        -14806         Dead   WITH TUMOR                  705   \n",
       "TCGA-02-0009-01        -22457         Dead   WITH TUMOR                  322   \n",
       "...                       ...          ...          ...                  ...   \n",
       "TCGA-ZS-A9CG-01        -20100        Alive   TUMOR FREE                  341   \n",
       "TCGA-ZT-A8OM-01        -26923        Alive   TUMOR FREE                 1398   \n",
       "TCGA-ZU-A8S4-01        -19264         Dead   WITH TUMOR                  NaN   \n",
       "TCGA-ZU-A8S4-11        -19264         Dead   WITH TUMOR                  NaN   \n",
       "TCGA-ZX-AA5X-01        -23440        Alive   WITH TUMOR                  119   \n",
       "\n",
       "                death_days_to cause_of_death     new_tumor_event_type   \n",
       "sample                                                                  \n",
       "TCGA-02-0001-01           358            NaN               Recurrence  \\\n",
       "TCGA-02-0003-01           144            NaN               Recurrence   \n",
       "TCGA-02-0006-01           558            NaN               Recurrence   \n",
       "TCGA-02-0007-01           705            NaN   Progression of Disease   \n",
       "TCGA-02-0009-01           322            NaN   Progression of Disease   \n",
       "...                       ...            ...                      ...   \n",
       "TCGA-ZS-A9CG-01           NaN            NaN                      NaN   \n",
       "TCGA-ZT-A8OM-01           NaN            NaN                      NaN   \n",
       "TCGA-ZU-A8S4-01            98            NaN  Intrahepatic Recurrence   \n",
       "TCGA-ZU-A8S4-11            98            NaN  Intrahepatic Recurrence   \n",
       "TCGA-ZX-AA5X-01           NaN            NaN                      NaN   \n",
       "\n",
       "                new_tumor_event_site new_tumor_event_site_other   \n",
       "sample                                                            \n",
       "TCGA-02-0001-01                  NaN                        NaN  \\\n",
       "TCGA-02-0003-01                  NaN                        NaN   \n",
       "TCGA-02-0006-01                  NaN                        NaN   \n",
       "TCGA-02-0007-01                  NaN                        NaN   \n",
       "TCGA-02-0009-01                  NaN                        NaN   \n",
       "...                              ...                        ...   \n",
       "TCGA-ZS-A9CG-01                  NaN                        NaN   \n",
       "TCGA-ZT-A8OM-01                  NaN                        NaN   \n",
       "TCGA-ZU-A8S4-01                Liver                        NaN   \n",
       "TCGA-ZU-A8S4-11                Liver                        NaN   \n",
       "TCGA-ZX-AA5X-01                  NaN                        NaN   \n",
       "\n",
       "                new_tumor_event_dx_days_to treatment_outcome_first_course   \n",
       "sample                                                                      \n",
       "TCGA-02-0001-01                        137                            NaN  \\\n",
       "TCGA-02-0003-01                         40                            NaN   \n",
       "TCGA-02-0006-01                        302                            NaN   \n",
       "TCGA-02-0007-01                        518                            NaN   \n",
       "TCGA-02-0009-01                        264                            NaN   \n",
       "...                                    ...                            ...   \n",
       "TCGA-ZS-A9CG-01                        NaN                            NaN   \n",
       "TCGA-ZT-A8OM-01                        NaN                            NaN   \n",
       "TCGA-ZU-A8S4-01                         72                            NaN   \n",
       "TCGA-ZU-A8S4-11                         72                            NaN   \n",
       "TCGA-ZX-AA5X-01                        NaN                            NaN   \n",
       "\n",
       "                margin_status residual_tumor OS OS.time DSS DSS.time  DFI   \n",
       "sample                                                                      \n",
       "TCGA-02-0001-01           NaN            NaN  1     358   1      358  NaN  \\\n",
       "TCGA-02-0003-01           NaN            NaN  1     144   1      144  NaN   \n",
       "TCGA-02-0006-01           NaN            NaN  1     558   1      558  NaN   \n",
       "TCGA-02-0007-01           NaN            NaN  1     705   1      705  NaN   \n",
       "TCGA-02-0009-01           NaN            NaN  1     322   1      322  NaN   \n",
       "...                       ...            ... ..     ...  ..      ...  ...   \n",
       "TCGA-ZS-A9CG-01           NaN             R0  0     341   0      341    0   \n",
       "TCGA-ZT-A8OM-01           NaN            NaN  0    1398   0     1398  NaN   \n",
       "TCGA-ZU-A8S4-01           NaN             R0  1      98   1       98    1   \n",
       "TCGA-ZU-A8S4-11           NaN             R0  1      98   1       98    1   \n",
       "TCGA-ZX-AA5X-01           NaN            NaN  0     119   0      119  NaN   \n",
       "\n",
       "                DFI.time PFI PFI.time Redaction  \n",
       "sample                                           \n",
       "TCGA-02-0001-01      NaN   1      137       NaN  \n",
       "TCGA-02-0003-01      NaN   1       40       NaN  \n",
       "TCGA-02-0006-01      NaN   1      302       NaN  \n",
       "TCGA-02-0007-01      NaN   1      518       NaN  \n",
       "TCGA-02-0009-01      NaN   1      264       NaN  \n",
       "...                  ...  ..      ...       ...  \n",
       "TCGA-ZS-A9CG-01      341   0      341       NaN  \n",
       "TCGA-ZT-A8OM-01      NaN   0     1398       NaN  \n",
       "TCGA-ZU-A8S4-01       72   1       72       NaN  \n",
       "TCGA-ZU-A8S4-11       72   1       72       NaN  \n",
       "TCGA-ZX-AA5X-01      NaN   0      119       NaN  \n",
       "\n",
       "[12522 rows x 33 columns]"
      ]
     },
     "execution_count": 7,
     "metadata": {},
     "output_type": "execute_result"
    }
   ],
   "source": [
    "survival_labels_tcga_na = survival_labels_tcga.dropna(subset=['OS', 'OS.time'])\n",
    "survival_labels_tcga_na"
   ]
  },
  {
   "cell_type": "code",
   "execution_count": 8,
   "metadata": {
    "tags": []
   },
   "outputs": [
    {
     "data": {
      "text/plain": [
       "OS         0\n",
       "OS.time    0\n",
       "dtype: int64"
      ]
     },
     "execution_count": 8,
     "metadata": {},
     "output_type": "execute_result"
    }
   ],
   "source": [
    "# Vérifier le nombre de valeurs manquantes dans les colonnes d'intérêt\n",
    "na_counts = survival_labels_tcga_na[['OS', 'OS.time']].isna().sum()\n",
    "na_counts"
   ]
  },
  {
   "cell_type": "code",
   "execution_count": 9,
   "metadata": {
    "tags": []
   },
   "outputs": [],
   "source": [
    "# Copier les colonnes d'intérêt dans un nouveau DataFrame\n",
    "df_OS_OS_time = survival_labels_tcga_na[['OS', 'OS.time']].copy()\n",
    "\n",
    "# Convertir les types de données\n",
    "df_OS_OS_time[\"OS\"] = df_OS_OS_time[\"OS\"].astype(int).astype(bool)  # convertir en booléen\n",
    "df_OS_OS_time[\"OS.time\"] = df_OS_OS_time[\"OS.time\"].astype(int)  # convertir en entier"
   ]
  },
  {
   "cell_type": "code",
   "execution_count": 10,
   "metadata": {
    "tags": []
   },
   "outputs": [
    {
     "data": {
      "text/plain": [
       "0.33237501996486185"
      ]
     },
     "execution_count": 10,
     "metadata": {},
     "output_type": "execute_result"
    }
   ],
   "source": [
    "df_OS_OS_time[\"OS\"].astype(bool).mean()"
   ]
  },
  {
   "cell_type": "markdown",
   "metadata": {},
   "source": [
    "## KM pour tous les cancers"
   ]
  },
  {
   "cell_type": "code",
   "execution_count": 11,
   "metadata": {
    "tags": []
   },
   "outputs": [
    {
     "data": {
      "text/plain": [
       "Text(0.5, 0, 'time $t$')"
      ]
     },
     "execution_count": 11,
     "metadata": {},
     "output_type": "execute_result"
    },
    {
     "data": {
      "image/png": "[encoded data removed]",
      "text/plain": [
       "<Figure size 640x480 with 1 Axes>"
      ]
     },
     "metadata": {},
     "output_type": "display_data"
    }
   ],
   "source": [
    "# Utiliser la fonction kaplan_meier_estimator\n",
    "from sksurv.nonparametric import kaplan_meier_estimator\n",
    "time, survival_prob = kaplan_meier_estimator(df_OS_OS_time[\"OS\"], df_OS_OS_time[\"OS.time\"])\n",
    "plt.step(time, survival_prob, where=\"post\")\n",
    "plt.ylabel(\"est. probability of survival $\\hat{S}(t)$\")\n",
    "plt.xlabel(\"time $t$\")"
   ]
  },
  {
   "cell_type": "markdown",
   "metadata": {},
   "source": [
    "## KM pour chaque type de cancer"
   ]
  },
  {
   "cell_type": "code",
   "execution_count": 12,
   "metadata": {
    "tags": []
   },
   "outputs": [],
   "source": [
    "import plotly.graph_objects as go\n",
    "\n",
    "# Créer une nouvelle figure\n",
    "fig = go.Figure()\n",
    "\n",
    "for value in survival_labels_tcga_na[\"cancer type abbreviation\"].unique():\n",
    "    mask = survival_labels_tcga_na[\"cancer type abbreviation\"] == value\n",
    "    time_cell, survival_prob_cell = kaplan_meier_estimator(df_OS_OS_time[\"OS\"][mask],\n",
    "                                                           df_OS_OS_time[\"OS.time\"][mask])\n",
    "\n",
    "    # Ajouter une trace de type step pour chaque type de cancer\n",
    "    fig.add_trace(go.Scatter(x=time_cell, y=survival_prob_cell, mode='lines+markers',\n",
    "                             name=\"%s (n = %d)\" % (value, mask.sum())))\n",
    "\n",
    "# Ajouter les labels pour les axes\n",
    "fig.update_layout(xaxis_title='time $t$', yaxis_title='est. probability of survival $\\hat{S}(t)$')\n",
    "\n",
    "# Afficher la figure\n",
    "fig.write_html(\"./figures/KM_pour_chaque_type_de_cancer.html\")"
   ]
  },
  {
   "cell_type": "markdown",
   "metadata": {},
   "source": [
    "## KM by molecular subtype"
   ]
  },
  {
   "cell_type": "code",
   "execution_count": 13,
   "metadata": {
    "tags": []
   },
   "outputs": [],
   "source": [
    "# !wget -q -N https://tcga-pancan-atlas-hub.s3.us-east-1.amazonaws.com/download/TCGASubtype.20170308.tsv.gz"
   ]
  },
  {
   "cell_type": "code",
   "execution_count": 14,
   "metadata": {
    "tags": []
   },
   "outputs": [],
   "source": [
    "molecular_subtype = pd.read_table(\n",
    "    \"TCGASubtype.20170308.tsv.gz\", compression=\"gzip\", \n",
    "    header=0, sep=\"\\t\", encoding=\"ISO-8859-1\", index_col=0, dtype=\"str\").sort_index(axis=\"index\")"
   ]
  },
  {
   "cell_type": "code",
   "execution_count": 15,
   "metadata": {
    "tags": []
   },
   "outputs": [],
   "source": [
    "# molecular_subtype.head()"
   ]
  },
  {
   "cell_type": "markdown",
   "metadata": {},
   "source": [
    "Merge avec les données de survie"
   ]
  },
  {
   "cell_type": "code",
   "execution_count": 16,
   "metadata": {
    "tags": []
   },
   "outputs": [],
   "source": [
    "merged_df = survival_labels_tcga_na.join(molecular_subtype, how='inner')\n",
    "merged_df = merged_df.dropna(subset=[\"OS\"])\n",
    "merged_df = merged_df.dropna(subset=[\"Subtype_mRNA\"])\n",
    "# merged_df.head()"
   ]
  },
  {
   "cell_type": "code",
   "execution_count": 17,
   "metadata": {
    "tags": []
   },
   "outputs": [],
   "source": [
    "# Copier les colonnes d'intérêt dans un nouveau DataFrame\n",
    "df_OS_OS_time = merged_df[['OS', 'OS.time']].copy()\n",
    "\n",
    "# Convertir les types de données\n",
    "df_OS_OS_time[\"OS\"] = df_OS_OS_time[\"OS\"].astype(int).astype(bool)  # convertir en booléen\n",
    "df_OS_OS_time[\"OS.time\"] = df_OS_OS_time[\"OS.time\"].astype(int)  # convertir en entier"
   ]
  },
  {
   "cell_type": "code",
   "execution_count": 18,
   "metadata": {
    "tags": []
   },
   "outputs": [
    {
     "data": {
      "text/plain": [
       "0.33842070338420704"
      ]
     },
     "execution_count": 18,
     "metadata": {},
     "output_type": "execute_result"
    }
   ],
   "source": [
    "df_OS_OS_time[\"OS\"].astype(bool).mean()"
   ]
  },
  {
   "cell_type": "code",
   "execution_count": 19,
   "metadata": {
    "tags": []
   },
   "outputs": [],
   "source": [
    "import plotly.graph_objects as go\n",
    "import os\n",
    "\n",
    "# Obtenir les types de cancer uniques\n",
    "unique_cancer_types = survival_labels_tcga_na[\"cancer type abbreviation\"].unique()\n",
    "\n",
    "for cancer_type in unique_cancer_types:\n",
    "    # Sélectionner uniquement les données pour le type de cancer actuel\n",
    "    cancer_data = merged_df[merged_df[\"cancer type abbreviation\"] == cancer_type]\n",
    "\n",
    "    # Obtenir les sous-types moléculaires uniques pour ce type de cancer\n",
    "    unique_subtypes = cancer_data[\"Subtype_mRNA\"].unique()\n",
    "    \n",
    "    # Créer une nouvelle figure pour chaque type de cancer\n",
    "    fig = go.Figure()\n",
    "    \n",
    "    for subtype in unique_subtypes:\n",
    "        # Créer un masque pour sélectionner uniquement les données pour le sous-type moléculaire actuel\n",
    "        mask = (cancer_data[\"Subtype_mRNA\"] == subtype).reindex(df_OS_OS_time.index).fillna(False)\n",
    "        \n",
    "        # Calculer l'estimateur de survie de Kaplan-Meier pour ce sous-type de cancer\n",
    "        time, survival_prob = kaplan_meier_estimator(df_OS_OS_time[\"OS\"][mask],\n",
    "                                                     df_OS_OS_time[\"OS.time\"][mask])\n",
    "        \n",
    "        # Ajouter la courbe de survie à la figure\n",
    "        fig.add_trace(go.Scatter(x=time, y=survival_prob, mode='lines', name=subtype))\n",
    "\n",
    "    # Définir les étiquettes des axes\n",
    "    fig.update_layout(\n",
    "        title=f\"Kaplan-Meier Survival Curve for {cancer_type}\",\n",
    "        xaxis_title=\"Time\",\n",
    "        yaxis_title=\"Estimated Probability of Survival\",\n",
    "        autosize=False,\n",
    "        width=500,\n",
    "        height=500,\n",
    "        margin=dict(\n",
    "            l=50,\n",
    "            r=50,\n",
    "            b=100,\n",
    "            t=100,\n",
    "            pad=4\n",
    "        )\n",
    "    )\n",
    "    \n",
    "    # Sauvegarder la figure sous forme de fichier HTML dans le dossier figures\n",
    "    fig.write_html(f\"./figures/KM_{cancer_type}_by_subtype.html\")\n"
   ]
  },
  {
   "cell_type": "markdown",
   "metadata": {},
   "source": [
    "## Download gene expression"
   ]
  },
  {
   "cell_type": "code",
   "execution_count": 20,
   "metadata": {
    "tags": []
   },
   "outputs": [],
   "source": [
    "# Download raw files from xena\n",
    "# https://xenabrowser.net/datapages/?dataset=tcga_RSEM_gene_tpm&host=https%3A%2F%2Ftoil.xenahubs.net&removeHub=https%3A%2F%2Fxena.treehouse.gi.ucsc.edu%3A443\n",
    "# !wget -q -N https://toil-xena-hub.s3.us-east-1.amazonaws.com/download/tcga_RSEM_gene_tpm.gz"
   ]
  },
  {
   "cell_type": "code",
   "execution_count": 21,
   "metadata": {
    "tags": []
   },
   "outputs": [],
   "source": [
    "# %%time\n",
    "# Convert to float32, Transpose to ML style rows = samples and hdf for significantly faster reading\n",
    "# if not os.path.exists(os.path.expanduser(\"TcgaTargetGtex_rsem_gene_tpm.T.fp32.h5\")):\n",
    "    # pd.read_table(os.path.expanduser(\"tcga_RSEM_gene_tpm.gz\"), index_col=0, engine='c') \\\n",
    "        # .astype(np.float32).T \\\n",
    "        # .to_hdf(os.path.expanduser(\"tcga_RSEM_gene_tpm.T.fp32.h5\"), \"expression\", mode=\"w\", format=\"fixed\")"
   ]
  },
  {
   "cell_type": "code",
   "execution_count": 22,
   "metadata": {
    "tags": []
   },
   "outputs": [
    {
     "name": "stdout",
     "output_type": "stream",
     "text": [
      "CPU times: user 3.11 s, sys: 3.3 s, total: 6.4 s\n",
      "Wall time: 6.41 s\n"
     ]
    }
   ],
   "source": [
    "%%time\n",
    "tcga_samples = pd.read_hdf(os.path.expanduser(\"tcga_RSEM_gene_tpm.T.fp32.h5\"))"
   ]
  },
  {
   "cell_type": "code",
   "execution_count": 24,
   "metadata": {
    "tags": []
   },
   "outputs": [
    {
     "data": {
      "text/plain": [
       "Index(['TCGA-19-1787-01', 'TCGA-S9-A7J2-01', 'TCGA-G3-A3CH-11',\n",
       "       'TCGA-EK-A2RE-01', 'TCGA-44-6778-01', 'TCGA-F4-6854-01',\n",
       "       'TCGA-AB-2863-03', 'TCGA-C8-A1HL-01', 'TCGA-EW-A2FS-01',\n",
       "       'TCGA-IR-A3L7-01',\n",
       "       ...\n",
       "       'TCGA-DJ-A2QC-01', 'TCGA-A8-A09K-01', 'TCGA-61-1907-01',\n",
       "       'TCGA-IB-7885-01', 'TCGA-95-7947-01', 'TCGA-VQ-AA6F-01',\n",
       "       'TCGA-BR-8588-01', 'TCGA-24-2254-01', 'TCGA-DD-A115-01',\n",
       "       'TCGA-FV-A3I0-11'],\n",
       "      dtype='object', length=10535)"
      ]
     },
     "execution_count": 24,
     "metadata": {},
     "output_type": "execute_result"
    }
   ],
   "source": [
    "# Gene expression log2(tpm+0.001)\n",
    "tcga_samples.index"
   ]
  },
  {
   "cell_type": "code",
   "execution_count": 25,
   "metadata": {
    "tags": []
   },
   "outputs": [
    {
     "data": {
      "text/plain": [
       "Index(['TCGA-02-0001-01', 'TCGA-02-0003-01', 'TCGA-02-0006-01',\n",
       "       'TCGA-02-0007-01', 'TCGA-02-0009-01', 'TCGA-02-0010-01',\n",
       "       'TCGA-02-0011-01', 'TCGA-02-0014-01', 'TCGA-02-0015-01',\n",
       "       'TCGA-02-0016-01',\n",
       "       ...\n",
       "       'TCGA-ZR-A9CJ-01', 'TCGA-ZS-A9CD-01', 'TCGA-ZS-A9CE-01',\n",
       "       'TCGA-ZS-A9CF-01', 'TCGA-ZS-A9CF-02', 'TCGA-ZS-A9CG-01',\n",
       "       'TCGA-ZT-A8OM-01', 'TCGA-ZU-A8S4-01', 'TCGA-ZU-A8S4-11',\n",
       "       'TCGA-ZX-AA5X-01'],\n",
       "      dtype='object', name='sample', length=12522)"
      ]
     },
     "execution_count": 25,
     "metadata": {},
     "output_type": "execute_result"
    }
   ],
   "source": [
    "survival_labels_tcga_na.index"
   ]
  },
  {
   "cell_type": "markdown",
   "metadata": {},
   "source": [
    "Merge avec les données de survie"
   ]
  },
  {
   "cell_type": "code",
   "execution_count": 36,
   "metadata": {
    "tags": []
   },
   "outputs": [],
   "source": [
    "# Charger les données de survie (temps de survie et statut de survie)\n",
    "survival_data = survival_labels_tcga_na.copy()\n",
    "survival_data[\"OS\"] = survival_data[\"OS\"].astype(int).astype(bool) # convertir en booléen\n",
    "survival_data[\"OS.time\"] = survival_data[\"OS.time\"].astype(int) # convertir en entier\n",
    "\n",
    "# Charger les données d'expression génique pour chaque échantillon\n",
    "gene_expression_data = tcga_samples.copy() "
   ]
  },
  {
   "cell_type": "code",
   "execution_count": 37,
   "metadata": {
    "tags": []
   },
   "outputs": [],
   "source": [
    "# Merge des données de suvir et d'expression\n",
    "merged_data = survival_data.join(gene_expression_data, how='inner')"
   ]
  },
  {
   "cell_type": "code",
   "execution_count": 42,
   "metadata": {
    "tags": []
   },
   "outputs": [],
   "source": [
    "# Drop NA\n",
    "merged_data = merged_data.dropna(subset=[\"OS\"])"
   ]
  },
  {
   "cell_type": "code",
   "execution_count": 39,
   "metadata": {
    "tags": []
   },
   "outputs": [
    {
     "data": {
      "text/plain": [
       "Index(['_PATIENT', 'cancer type abbreviation',\n",
       "       'age_at_initial_pathologic_diagnosis', 'gender', 'race',\n",
       "       'ajcc_pathologic_tumor_stage', 'clinical_stage', 'histological_type',\n",
       "       'histological_grade', 'initial_pathologic_dx_year',\n",
       "       ...\n",
       "       'ENSG00000009694.13', 'ENSG00000238244.3', 'ENSG00000216352.1',\n",
       "       'ENSG00000123685.8', 'ENSG00000267117.1', 'ENSG00000273233.1',\n",
       "       'ENSG00000105063.18', 'ENSG00000231119.2', 'ENSG00000280861.1',\n",
       "       'ENSG00000181518.3'],\n",
       "      dtype='object', length=60531)"
      ]
     },
     "execution_count": 39,
     "metadata": {},
     "output_type": "execute_result"
    }
   ],
   "source": [
    "merged_data.columns"
   ]
  },
  {
   "cell_type": "code",
   "execution_count": 40,
   "metadata": {
    "tags": []
   },
   "outputs": [
    {
     "data": {
      "text/plain": [
       "0.3115775349817903"
      ]
     },
     "execution_count": 40,
     "metadata": {},
     "output_type": "execute_result"
    }
   ],
   "source": [
    "merged_data[\"OS\"].astype(bool).mean()"
   ]
  },
  {
   "cell_type": "markdown",
   "metadata": {},
   "source": [
    "## KM pour tous les cancers"
   ]
  },
  {
   "cell_type": "markdown",
   "metadata": {
    "tags": []
   },
   "source": [
    "### Avec sksurvival"
   ]
  },
  {
   "cell_type": "code",
   "execution_count": 41,
   "metadata": {
    "tags": []
   },
   "outputs": [],
   "source": [
    "import plotly.graph_objects as go\n",
    "\n",
    "# Obtenez la liste des noms de colonnes sauf les deux premiers\n",
    "columns_except_first_two = ['ENSG00000078237.5','ENSG00000269416.5']\n",
    "\n",
    "# Créer une nouvelle figure\n",
    "fig = go.Figure()\n",
    "\n",
    "# Parcourir la liste des gènes\n",
    "for gene in columns_except_first_two:\n",
    "    high_expression_group = merged_data[merged_data[gene] >= merged_data[gene].median()]\n",
    "    low_expression_group = merged_data[merged_data[gene] < merged_data[gene].median()]\n",
    "\n",
    "    #for value in survival_labels_tcga_na[\"cancer type abbreviation\"].unique():\n",
    "    #mask = survival_labels_tcga_na[\"cancer type abbreviation\"] == value\n",
    "    time_cell, survival_prob_cell = kaplan_meier_estimator(high_expression_group[\"OS\"],\n",
    "                                                           high_expression_group[\"OS.time\"])\n",
    "    time_cell_low, survival_prob_cell_low = kaplan_meier_estimator(low_expression_group[\"OS\"],\n",
    "                                                           low_expression_group[\"OS.time\"])\n",
    "\n",
    "    # Ajouter une trace de type step pour chaque type de cancer\n",
    "    fig.add_trace(go.Scatter(x=time_cell, y=survival_prob_cell, mode='lines+markers',\n",
    "                             name=f'{gene} High Expression'))\n",
    "    fig.add_trace(go.Scatter(x=time_cell_low, y=survival_prob_cell_low, mode='lines+markers',\n",
    "                             name=f'{gene} Low Expression'))\n",
    "\n",
    "# Ajouter les labels pour les axes\n",
    "fig.update_layout(xaxis_title='time $t$', yaxis_title='est. probability of survival $\\hat{S}(t)$')\n",
    "\n",
    "# Afficher la figure\n",
    "fig.write_html(\"./figures/KM_gene_expression_all_cancer_sk.html\")"
   ]
  },
  {
   "cell_type": "markdown",
   "metadata": {},
   "source": [
    "### Avec KaplanMeierFitter"
   ]
  },
  {
   "cell_type": "code",
   "execution_count": 43,
   "metadata": {
    "tags": []
   },
   "outputs": [],
   "source": [
    "import pandas as pd\n",
    "import plotly.graph_objects as go\n",
    "from lifelines import KaplanMeierFitter\n",
    "\n",
    "# Supposons que vous avez un DataFrame nommé \"merged_data\" contenant les données\n",
    "# et que les colonnes 'OS' et 'OS.time' représentent respectivement l'état de survie (booléen)\n",
    "# et le temps de survie (numérique) des échantillons.\n",
    "\n",
    "# Obtenez la liste des noms de colonnes sauf les deux premiers\n",
    "columns_except_first_two = ['ENSG00000078237.5','ENSG00000269416.5']\n",
    "\n",
    "# Initialisation de la figure\n",
    "fig = go.Figure()\n",
    "\n",
    "# Parcourir la liste des gènes\n",
    "for gene in columns_except_first_two:\n",
    "    high_expression_group = merged_data[merged_data[gene] >= merged_data[gene].median()]\n",
    "    low_expression_group = merged_data[merged_data[gene] < merged_data[gene].median()]\n",
    "\n",
    "    # Vérifier que les groupes contiennent au moins un échantillon\n",
    "    if len(high_expression_group) > 0 and len(low_expression_group) > 0:\n",
    "        # Calculer les temps de survie et les probabilités de survie estimées pour chaque groupe\n",
    "        kmf_high = KaplanMeierFitter()\n",
    "        kmf_high.fit(high_expression_group['OS.time'], event_observed=high_expression_group['OS'])\n",
    "        # kmf_high.plot_survival_function()\n",
    "        time_high, survival_prob_high = kmf_high.survival_function_.index.values, kmf_high.survival_function_.values[:, 0]\n",
    "\n",
    "        kmf_low = KaplanMeierFitter()\n",
    "        kmf_low.fit(low_expression_group['OS.time'], event_observed=low_expression_group['OS'])\n",
    "        # kmf_low.plot_survival_function()\n",
    "        time_low, survival_prob_low = kmf_low.survival_function_.index.values, kmf_low.survival_function_.values[:, 0]\n",
    "\n",
    "        # Ajouter une trace pour chaque groupe sur le graphique\n",
    "        fig.add_trace(go.Scatter(x=time_high, y=survival_prob_high, mode='lines+markers', name=f'{gene} High Expression'))\n",
    "        fig.add_trace(go.Scatter(x=time_low, y=survival_prob_low, mode='lines+markers', name=f'{gene} Low Expression'))\n",
    "\n",
    "# Mettre à jour les labels des axes du graphique\n",
    "fig.update_layout(xaxis_title='Time', yaxis_title='Estimated Probability of Survival')\n",
    "\n",
    "# Afficher la figure résultante\n",
    "fig.write_html(\"./figures/KM_gene_expression_all_cancer_kmf.html\")\n"
   ]
  },
  {
   "cell_type": "markdown",
   "metadata": {},
   "source": [
    "### Figure générée avec une fonction R"
   ]
  },
  {
   "cell_type": "code",
   "execution_count": 44,
   "metadata": {
    "tags": []
   },
   "outputs": [],
   "source": [
    "# from IPython.display import Image\n",
    "\n",
    "# Chemin du fichier PNG\n",
    "# png_file = \"/Users/marion/Documents/ADLIN/Projet_IntegratiOMICS/Git_a_jour/research/figures/Survival_Analysis_R/survival_plot_gene_expression_all_cancer.png\"\n",
    "\n",
    "# Affichage de l'image dans le notebook\n",
    "# Image(filename=png_file)\n"
   ]
  },
  {
   "cell_type": "markdown",
   "metadata": {},
   "source": [
    "On obtient bien les mêmes résultats"
   ]
  },
  {
   "cell_type": "markdown",
   "metadata": {},
   "source": [
    "## KM par type de cancer"
   ]
  },
  {
   "cell_type": "markdown",
   "metadata": {},
   "source": [
    "### Avec Kaplan_meier_estimator"
   ]
  },
  {
   "cell_type": "code",
   "execution_count": 45,
   "metadata": {
    "scrolled": true,
    "tags": []
   },
   "outputs": [],
   "source": [
    "# Obtenez la liste des noms de colonnes sauf les deux premiers\n",
    "columns_except_first_two = ['ENSG00000078237.5', 'ENSG00000269416.5']\n",
    "\n",
    "# Sélectionner uniquement les données pour les types de cancer uniques\n",
    "unique_cancer_types = merged_data[\"cancer type abbreviation\"].unique()\n",
    "\n",
    "# Initialisation de la figure\n",
    "\n",
    "# Parcourir les types de cancer\n",
    "for cancer_type in unique_cancer_types:\n",
    "    fig = go.Figure()\n",
    "\n",
    "    cancer_data = merged_data[merged_data[\"cancer type abbreviation\"] == cancer_type]\n",
    "\n",
    "    # Parcourir la liste des gènes\n",
    "    for gene in columns_except_first_two:\n",
    "        high_expression_group = cancer_data[(cancer_data[gene] >= cancer_data[gene].median())]\n",
    "        low_expression_group = cancer_data[(cancer_data[gene] < cancer_data[gene].median())]\n",
    "        if len(low_expression_group) == 0 or len(high_expression_group) == 0:\n",
    "            continue\n",
    "        #for value in survival_labels_tcga_na[\"cancer type abbreviation\"].unique():\n",
    "        #mask = survival_labels_tcga_na[\"cancer type abbreviation\"] == value\n",
    "        time_cell, survival_prob_cell = kaplan_meier_estimator(high_expression_group[\"OS\"],\n",
    "                                                               high_expression_group[\"OS.time\"])\n",
    "        time_cell_low, survival_prob_cell_low = kaplan_meier_estimator(low_expression_group[\"OS\"],\n",
    "                                                               low_expression_group[\"OS.time\"])\n",
    "\n",
    "        # Ajouter une trace de type step pour chaque type de cancer\n",
    "        fig.add_trace(go.Scatter(x=time_cell, y=survival_prob_cell, mode='lines+markers',\n",
    "                                 name=f'{gene} High Expression'))\n",
    "        fig.add_trace(go.Scatter(x=time_cell_low, y=survival_prob_cell_low, mode='lines+markers',\n",
    "                                 name=f'{gene} Low Expression'))\n",
    "\n",
    "    # Ajouter les labels pour les axes\n",
    "    # fig.update_layout(xaxis_title='time $t$', yaxis_title='est. probability of survival $\\hat{S}(t)$')\n",
    "    # Mettre à jour les labels des axes du graphique pour chaque type de cancer\n",
    "    fig.update_layout(xaxis_title='Time', yaxis_title='Estimated Probability of Survival', title=f'Survival Analysis - {cancer_type}')\n",
    "\n",
    "\n",
    "    # Afficher la figure\n",
    "    # fig.show()\n",
    "    # Sauvegarder la figure sous forme de fichier HTML dans le dossier figures\n",
    "    fig.write_html(f\"./figures/KM_gene_expression_{cancer_type}.html\")"
   ]
  },
  {
   "cell_type": "markdown",
   "metadata": {},
   "source": [
    "### Avec KaplanMeierFitter"
   ]
  },
  {
   "cell_type": "code",
   "execution_count": 46,
   "metadata": {
    "tags": []
   },
   "outputs": [],
   "source": [
    "# Sélectionner uniquement les données pour les types de cancer uniques\n",
    "unique_cancer_types = merged_data[\"cancer type abbreviation\"].unique()\n",
    "\n",
    "# Parcourir les types de cancer et générer une figure pour chaque type de cancer\n",
    "for cancer_type in unique_cancer_types:\n",
    "    # Sélectionner uniquement les données pour le type de cancer actuel\n",
    "    cancer_data = merged_data[merged_data[\"cancer type abbreviation\"] == cancer_type]\n",
    "\n",
    "    # Sélectionner les colonnes spécifiques\n",
    "    columns_to_select = ['ENSG00000078237.5', 'ENSG00000269416.5']\n",
    "\n",
    "    # Initialisation de la figure pour le type de cancer actuel\n",
    "    fig = go.Figure()\n",
    "\n",
    "    # Parcourir les colonnes sélectionnées\n",
    "    for gene in columns_to_select:\n",
    "        high_expression_group = cancer_data[cancer_data[gene] >= cancer_data[gene].median()]\n",
    "        low_expression_group = cancer_data[cancer_data[gene] < cancer_data[gene].median()]\n",
    "\n",
    "        # Vérifier que les groupes contiennent au moins un échantillon\n",
    "        if len(high_expression_group) > 0 and len(low_expression_group) > 0:\n",
    "            # Calculer les temps de survie et les probabilités de survie estimées pour chaque groupe\n",
    "            kmf_high = KaplanMeierFitter()\n",
    "            kmf_high.fit(high_expression_group['OS.time'], event_observed=high_expression_group['OS'])\n",
    "            time_high, survival_prob_high = kmf_high.survival_function_.index.values, kmf_high.survival_function_.values[:, 0]\n",
    "\n",
    "            kmf_low = KaplanMeierFitter()\n",
    "            kmf_low.fit(low_expression_group['OS.time'], event_observed=low_expression_group['OS'])\n",
    "            time_low, survival_prob_low = kmf_low.survival_function_.index.values, kmf_low.survival_function_.values[:, 0]\n",
    "\n",
    "            # Ajouter une trace pour chaque groupe sur le graphique\n",
    "            fig.add_trace(go.Scatter(x=time_high, y=survival_prob_high, mode='lines+markers', name=f'{gene} High Expression'))\n",
    "            fig.add_trace(go.Scatter(x=time_low, y=survival_prob_low, mode='lines+markers', name=f'{gene} Low Expression'))\n",
    "\n",
    "            # Ajouter les annotations pour les nombres d'échantillons\n",
    "            fig.add_annotation(x=0.95, y=0.2, xref='paper', yref='paper',\n",
    "                               text=f'n(high) = {len(high_expression_group)}',\n",
    "                               showarrow=False, align='right')\n",
    "            fig.add_annotation(x=0.95, y=0.3, xref='paper', yref='paper',\n",
    "                               text=f'n(low) = {len(low_expression_group)}',\n",
    "                               showarrow=False, align='right')\n",
    "\n",
    "    # Mettre à jour les labels des axes du graphique pour chaque type de cancer\n",
    "    fig.update_layout(xaxis_title='Time', yaxis_title='Estimated Probability of Survival', title=f'Survival Analysis - {cancer_type}')\n",
    "\n",
    "    # Sauvegarder la figure sous forme de fichier HTML dans le dossier figures\n",
    "    fig.write_html(f\"./figures/KM_gene_expression_{cancer_type}_kmf.html\")\n"
   ]
  },
  {
   "cell_type": "code",
   "execution_count": 47,
   "metadata": {
    "tags": []
   },
   "outputs": [
    {
     "data": {
      "text/plain": [
       "['ENSG00000141510.15']"
      ]
     },
     "execution_count": 47,
     "metadata": {},
     "output_type": "execute_result"
    }
   ],
   "source": [
    "# Gene Name de TP53\n",
    "ensembl_id = \"ENSG00000141510\"\n",
    "matching_columns = [col for col in tcga_samples.columns if ensembl_id in col]\n",
    "matching_columns"
   ]
  },
  {
   "cell_type": "code",
   "execution_count": 48,
   "metadata": {
    "scrolled": true,
    "tags": []
   },
   "outputs": [],
   "source": [
    "# Sélectionner uniquement les données pour les types de cancer uniques\n",
    "unique_cancer_types = merged_data[\"cancer type abbreviation\"].unique()\n",
    "\n",
    "# Parcourir les types de cancer et générer une figure pour chaque type de cancer\n",
    "for cancer_type in unique_cancer_types:\n",
    "    # Sélectionner uniquement les données pour le type de cancer actuel\n",
    "    cancer_data = merged_data[merged_data[\"cancer type abbreviation\"] == cancer_type]\n",
    "\n",
    "    # Sélectionner les colonnes spécifiques\n",
    "    columns_to_select = ['ENSG00000141510.15']\n",
    "\n",
    "    # Initialisation de la figure pour le type de cancer actuel\n",
    "    fig = go.Figure()\n",
    "\n",
    "    # Parcourir les colonnes sélectionnées\n",
    "    for gene in columns_to_select:\n",
    "        high_expression_group = cancer_data[cancer_data[gene] >= cancer_data[gene].median()]\n",
    "        low_expression_group = cancer_data[cancer_data[gene] < cancer_data[gene].median()]\n",
    "\n",
    "        # Vérifier que les groupes contiennent au moins un échantillon\n",
    "        if len(high_expression_group) > 0 and len(low_expression_group) > 0:\n",
    "            # Calculer les temps de survie et les probabilités de survie estimées pour chaque groupe\n",
    "            kmf_high = KaplanMeierFitter()\n",
    "            kmf_high.fit(high_expression_group['OS.time'], event_observed=high_expression_group['OS'])\n",
    "            time_high, survival_prob_high = kmf_high.survival_function_.index.values, kmf_high.survival_function_.values[:, 0]\n",
    "\n",
    "            kmf_low = KaplanMeierFitter()\n",
    "            kmf_low.fit(low_expression_group['OS.time'], event_observed=low_expression_group['OS'])\n",
    "            time_low, survival_prob_low = kmf_low.survival_function_.index.values, kmf_low.survival_function_.values[:, 0]\n",
    "\n",
    "            # Ajouter une trace pour chaque groupe sur le graphique\n",
    "            fig.add_trace(go.Scatter(x=time_high, y=survival_prob_high, mode='lines+markers', name=f'{gene} High Expression'))\n",
    "            fig.add_trace(go.Scatter(x=time_low, y=survival_prob_low, mode='lines+markers', name=f'{gene} Low Expression'))\n",
    "\n",
    "            # Ajouter les annotations pour les nombres d'échantillons\n",
    "            fig.add_annotation(x=0.95, y=0.2, xref='paper', yref='paper',\n",
    "                               text=f'n(high) = {len(high_expression_group)}',\n",
    "                               showarrow=False, align='right')\n",
    "            fig.add_annotation(x=0.95, y=0.3, xref='paper', yref='paper',\n",
    "                               text=f'n(low) = {len(low_expression_group)}',\n",
    "                               showarrow=False, align='right')\n",
    "\n",
    "    # Mettre à jour les labels des axes du graphique pour chaque type de cancer\n",
    "    fig.update_layout(xaxis_title='Time', yaxis_title='Estimated Probability of Survival', title=f'Survival Analysis - {cancer_type}')\n",
    "\n",
    "    # Sauvegarder la figure sous forme de fichier HTML dans le dossier figures\n",
    "    fig.write_html(f\"./figures/KM_gene_expression_{cancer_type}_kmf_tp53.html\")"
   ]
  },
  {
   "cell_type": "code",
   "execution_count": null,
   "metadata": {},
   "outputs": [],
   "source": []
  }
 ],
 "metadata": {
  "kernelspec": {
   "display_name": "Python 3 (ipykernel)",
   "language": "python",
   "name": "python3"
  },
  "language_info": {
   "codemirror_mode": {
    "name": "ipython",
    "version": 3
   },
   "file_extension": ".py",
   "mimetype": "text/x-python",
   "name": "python",
   "nbconvert_exporter": "python",
   "pygments_lexer": "ipython3",
   "version": "3.8.17"
  },
  "toc-autonumbering": false,
  "toc-showcode": true,
  "toc-showmarkdowntxt": false,
  "toc-showtags": true
 },
 "nbformat": 4,
 "nbformat_minor": 4
}
