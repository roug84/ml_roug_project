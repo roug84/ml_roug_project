{
 "cells": [
  {
   "cell_type": "code",
   "execution_count": 1,
   "metadata": {
    "_cell_guid": "b1076dfc-b9ad-4769-8c92-a6c4dae69d19",
    "_uuid": "8f2839f25d086af736a60e9eeb907d3b93b6e0e5"
   },
   "outputs": [
    {
     "data": {
      "text/plain": [
       "'\\n# Input data files are available in the read-only \"../input/\" directory\\n# For example, running this (by clicking run or pressing Shift+Enter) will list all files under the input directory\\n\\n\\nfor dirname, _, filenames in os.walk(\\'/kaggle/input\\'):\\n    for filename in filenames:\\n        print(os.path.join(dirname, filename))\\n\\n# You can write up to 20GB to the current directory (/kaggle/working/) that gets preserved as output when you create a version using \"Save & Run All\" \\n# You can also write temporary files to /kaggle/temp/, but they won\\'t be saved outside of the current session\\n'"
      ]
     },
     "execution_count": 1,
     "metadata": {},
     "output_type": "execute_result"
    }
   ],
   "source": [
    "# This Python 3 environment comes with many helpful analytics libraries installed\n",
    "# It is defined by the kaggle/python Docker image: https://github.com/kaggle/docker-python\n",
    "# For example, here's several helpful packages to load\n",
    "\n",
    "import numpy as np # linear algebra\n",
    "import pandas as pd # data processing, CSV file I/O (e.g. pd.read_csv)\n",
    "from sklearn.model_selection import train_test_split, StratifiedGroupKFold\n",
    "import ntpath\n",
    "import matplotlib.pyplot as plt\n",
    "import os\n",
    "from sklearn.metrics import accuracy_score\n",
    "\n",
    "def integer_to_onehot(data_integer, n_labels, start_at_zero=True):\n",
    "    \"\"\"\n",
    "    Function to convert integer to onehot\n",
    "    \"\"\"\n",
    "    if n_labels:\n",
    "        data_onehot = np.zeros(shape=(data_integer.shape[0], n_labels))\n",
    "    else:\n",
    "        data_onehot = np.zeros(shape=(data_integer.shape[0], data_integer.max() + 1))\n",
    "    for row in range(data_integer.shape[0]):\n",
    "        \n",
    "        integer = int(data_integer[row])\n",
    "        if not start_at_zero:\n",
    "            integer = integer - 1 \n",
    "        data_onehot[row, integer] = 1\n",
    "    return data_onehot\n",
    "\n",
    "def extract_data(in_path, one_hot_labels_list, x_list, y_label_list, user_list, y_num_list,\n",
    "                 activity_name_list):\n",
    "    for dirname, _, filenames in os.walk(in_path):\n",
    "        for filename in filenames:\n",
    "            tmp_path = os.path.join(dirname, filename)\n",
    "            #print(os.path.join(dirname, filename))\n",
    "            df_data = pd.read_csv(tmp_path)\n",
    "            user = ntpath.basename(tmp_path)[:-4]\n",
    "            #return df_data\n",
    "            #break\n",
    "            df_data['y_num'] = 0\n",
    "            #df_data.loc[(df_data['StartHesitation'] == 0) & (df_data['Turn'] == 0) & (df_data['Walking'] == 0), 'y_num'] = 1\n",
    "            df_data.loc[df_data['StartHesitation'] == 1, 'y_num'] = 1\n",
    "            df_data.loc[df_data['Turn'] == 1, 'y_num'] = 2\n",
    "            df_data.loc[df_data['Walking'] == 1, 'y_num'] = 3\n",
    "\n",
    "            df_data = add_identificator_of_change_in_variable(df_data, in_var='y_num')\n",
    "            df_data['user'] = user\n",
    "            #print(df_data['y_num'].unique())\n",
    "            #plt.plot(df_data['state_period_number'])\n",
    "            #plt.show()\n",
    "            \n",
    "            \n",
    "            for label in df_data['state_period_number'].unique():\n",
    "                # Select data for user\n",
    "                df_pat_tmp = df_data.loc[df_data['state_period_number'] == label]\n",
    "                \n",
    "                if len(df_pat_tmp['y_num']) < 200:\n",
    "                    continue\n",
    "                x_list.append(np.asarray(df_pat_tmp[['AccV', 'AccML', 'AccAP']].iloc[0:200]))\n",
    "                \n",
    "                \n",
    "                \n",
    "                #return df_pat_tmp, df_data\n",
    "                \n",
    "                one_hot_labels_list.append(integer_to_onehot(df_pat_tmp['y_num'].iloc[0:200].to_numpy(), n_labels=4, start_at_zero=True))                \n",
    "                user_list.append(user)\n",
    "                y_num_list.append(df_pat_tmp['y_num'].iloc[0:200].to_numpy())    \n",
    "                \n",
    "                x_list.append(np.asarray(df_data[['AccV', 'AccML', 'AccAP']].iloc[df_data.Time.iloc[0] - 200:  df_data.Time.iloc[0]]))\n",
    "                y_num_list.append(df_pat_tmp['y_num'].iloc[df_data.Time.iloc[0] - 200:  df_data.Time.iloc[0]].to_numpy())   \n",
    "                one_hot_labels_list.append(integer_to_onehot(df_pat_tmp['y_num'].iloc[df_data.Time.iloc[0] - 200:  df_data.Time.iloc[0]].to_numpy(), n_labels=4, start_at_zero=True))\n",
    "                user_list.append(user)\n",
    "            \n",
    "            \n",
    "            \n",
    "\n",
    "            del df_pat_tmp, df_data\n",
    "    return one_hot_labels_list, x_list, y_label_list, user_list, y_num_list, activity_name_list\n",
    "\n",
    "\n",
    "def add_identificator_of_change_in_variable(df_data, in_var):\n",
    "    \"\"\"\n",
    "\n",
    "    \"\"\"\n",
    "    df_data.loc[df_data[in_var] < 1, 'state_number'] = 0\n",
    "    df_data.loc[df_data[in_var] >= 1, 'state_number'] = 1\n",
    "    #plt.plot(df_data[in_var])\n",
    "    #plt.plot(df_data['state_number'])\n",
    "    #plt.show()\n",
    "    pa_df_patient = df_data[['state_number']].copy()\n",
    "    df_data = df_data.drop(['state_number'], axis=1)\n",
    "\n",
    "    pa_df_patient['change'] = pa_df_patient['state_number'].diff()\n",
    "\n",
    "\n",
    "    df_tmp_2 = pa_df_patient.loc[pa_df_patient['state_number'] == 1, 'change'].copy()\n",
    "    pa_df_patient['state_period_number'] = df_tmp_2.loc[~df_tmp_2.index.duplicated()].cumsum(axis=0)\n",
    "    df_data = df_data.join(pa_df_patient, how='outer')\n",
    "    # df_data['state_period_number'].plot()\n",
    "    return df_data\n",
    "\"\"\"\n",
    "# Input data files are available in the read-only \"../input/\" directory\n",
    "# For example, running this (by clicking run or pressing Shift+Enter) will list all files under the input directory\n",
    "\n",
    "\n",
    "for dirname, _, filenames in os.walk('/kaggle/input'):\n",
    "    for filename in filenames:\n",
    "        print(os.path.join(dirname, filename))\n",
    "\n",
    "# You can write up to 20GB to the current directory (/kaggle/working/) that gets preserved as output when you create a version using \"Save & Run All\" \n",
    "# You can also write temporary files to /kaggle/temp/, but they won't be saved outside of the current session\n",
    "\"\"\""
   ]
  },
  {
   "cell_type": "code",
   "execution_count": 2,
   "metadata": {},
   "outputs": [
    {
     "ename": "NameError",
     "evalue": "name 'train_dir1' is not defined",
     "output_type": "error",
     "traceback": [
      "\u001b[0;31m---------------------------------------------------------------------------\u001b[0m",
      "\u001b[0;31mNameError\u001b[0m                                 Traceback (most recent call last)",
      "Cell \u001b[0;32mIn[2], line 2\u001b[0m\n\u001b[1;32m      1\u001b[0m df, df_data \u001b[38;5;241m=\u001b[39m extract_data(\n\u001b[0;32m----> 2\u001b[0m    \u001b[43mtrain_dir1\u001b[49m, one_hot_labels_list, x_list, y_label_list, user_list, y_num_list, activity_name_list)\n",
      "\u001b[0;31mNameError\u001b[0m: name 'train_dir1' is not defined"
     ]
    }
   ],
   "source": [
    " df, df_data = extract_data(\n",
    "    train_dir1, one_hot_labels_list, x_list, y_label_list, user_list, y_num_list, activity_name_list)"
   ]
  },
  {
   "cell_type": "code",
   "execution_count": null,
   "metadata": {
    "execution": {
     "iopub.status.busy": "2023-05-31T14:46:55.731365Z",
     "iopub.status.idle": "2023-05-31T14:46:55.732167Z",
     "shell.execute_reply": "2023-05-31T14:46:55.731928Z",
     "shell.execute_reply.started": "2023-05-31T14:46:55.731890Z"
    }
   },
   "outputs": [],
   "source": [
    "df.Time.iloc[0] - 200"
   ]
  },
  {
   "cell_type": "code",
   "execution_count": null,
   "metadata": {},
   "outputs": [],
   "source": []
  },
  {
   "cell_type": "code",
   "execution_count": null,
   "metadata": {
    "execution": {
     "iopub.status.busy": "2023-05-31T14:46:55.734082Z",
     "iopub.status.idle": "2023-05-31T14:46:55.734563Z",
     "shell.execute_reply": "2023-05-31T14:46:55.734362Z",
     "shell.execute_reply.started": "2023-05-31T14:46:55.734337Z"
    }
   },
   "outputs": [],
   "source": [
    "df_data.iloc[df.Time.iloc[0] - 200,  df.Time.iloc[0]]"
   ]
  },
  {
   "cell_type": "code",
   "execution_count": null,
   "metadata": {
    "execution": {
     "iopub.status.busy": "2023-05-31T14:46:55.736306Z",
     "iopub.status.idle": "2023-05-31T14:46:55.737310Z",
     "shell.execute_reply": "2023-05-31T14:46:55.737079Z",
     "shell.execute_reply.started": "2023-05-31T14:46:55.737047Z"
    }
   },
   "outputs": [],
   "source": [
    "df"
   ]
  },
  {
   "cell_type": "code",
   "execution_count": 2,
   "metadata": {
    "execution": {
     "iopub.execute_input": "2023-06-01T12:51:57.502215Z",
     "iopub.status.busy": "2023-06-01T12:51:57.501717Z",
     "iopub.status.idle": "2023-06-01T12:52:52.735646Z",
     "shell.execute_reply": "2023-06-01T12:52:52.734377Z",
     "shell.execute_reply.started": "2023-06-01T12:51:57.502172Z"
    }
   },
   "outputs": [
    {
     "name": "stdout",
     "output_type": "stream",
     "text": [
      "0\n",
      "1380\n",
      "3132\n"
     ]
    }
   ],
   "source": [
    "sampling_rate = 100 # Hz\n",
    "time_required_second = 2  # s\n",
    "\n",
    "number_of_points = sampling_rate * time_required_second\n",
    "\n",
    "#time_\n",
    "\n",
    "one_hot_labels_list, x_list, y_label_list, user_list, y_num_list = ([] for i in range(5))\n",
    "activity_name_list = []\n",
    "print(len(x_list))\n",
    "train_dir1 = \"/kaggle/input/tlvmc-parkinsons-freezing-gait-prediction/train/defog\"\n",
    "one_hot_labels_list, x_list, y_label_list, user_list, y_num_list, activity_name_list = extract_data(\n",
    "    train_dir1, one_hot_labels_list, x_list, y_label_list, user_list, y_num_list, activity_name_list)\n",
    "\n",
    "print(len(x_list))\n",
    "train_dir2 = \"/kaggle/input/tlvmc-parkinsons-freezing-gait-prediction/train/tdcsfog\"\n",
    "one_hot_labels_list, x_list, y_label_list, user_list, y_num_list, activity_name_list = extract_data(\n",
    "    train_dir2, one_hot_labels_list, x_list, y_label_list, user_list, y_num_list, activity_name_list)\n",
    "\n",
    "print(len(x_list))"
   ]
  },
  {
   "cell_type": "code",
   "execution_count": null,
   "metadata": {
    "execution": {
     "iopub.status.busy": "2023-05-31T14:46:55.741378Z",
     "iopub.status.idle": "2023-05-31T14:46:55.741863Z",
     "shell.execute_reply": "2023-05-31T14:46:55.741661Z",
     "shell.execute_reply.started": "2023-05-31T14:46:55.741635Z"
    }
   },
   "outputs": [],
   "source": [
    "if False:\n",
    "    for i in range(len(x_list)):\n",
    "        plt.plot(x_list[i])\n",
    "        plt.title(str(y_num_list[i]))\n",
    "        #print(one_hot_labels_list[i])\n",
    "        #print(y_num_list[i])\n",
    "        #print(user_list[i])\n",
    "        plt.show()"
   ]
  },
  {
   "cell_type": "code",
   "execution_count": null,
   "metadata": {
    "execution": {
     "iopub.status.busy": "2023-05-31T14:46:55.743345Z",
     "iopub.status.idle": "2023-05-31T14:46:55.743802Z",
     "shell.execute_reply": "2023-05-31T14:46:55.743607Z",
     "shell.execute_reply.started": "2023-05-31T14:46:55.743583Z"
    }
   },
   "outputs": [],
   "source": [
    "train_set, test_set = train_test_split(range(len(x_list)))"
   ]
  },
  {
   "cell_type": "code",
   "execution_count": 3,
   "metadata": {},
   "outputs": [
    {
     "ename": "NameError",
     "evalue": "name 'train_set' is not defined",
     "output_type": "error",
     "traceback": [
      "\u001b[0;31m---------------------------------------------------------------------------\u001b[0m",
      "\u001b[0;31mNameError\u001b[0m                                 Traceback (most recent call last)",
      "Cell \u001b[0;32mIn[3], line 1\u001b[0m\n\u001b[0;32m----> 1\u001b[0m dataset_train \u001b[38;5;241m=\u001b[39m {\u001b[38;5;124m'\u001b[39m\u001b[38;5;124mx\u001b[39m\u001b[38;5;124m'\u001b[39m:  [x_list[i] \u001b[38;5;28;01mfor\u001b[39;00m i \u001b[38;5;129;01min\u001b[39;00m \u001b[43mtrain_set\u001b[49m],\n\u001b[1;32m      2\u001b[0m                  \u001b[38;5;124m'\u001b[39m\u001b[38;5;124my\u001b[39m\u001b[38;5;124m'\u001b[39m: [y_num_list[i] \u001b[38;5;28;01mfor\u001b[39;00m i \u001b[38;5;129;01min\u001b[39;00m train_set],\n\u001b[1;32m      3\u001b[0m                  \u001b[38;5;124m'\u001b[39m\u001b[38;5;124my_hot\u001b[39m\u001b[38;5;124m'\u001b[39m: [one_hot_labels_list[i] \u001b[38;5;28;01mfor\u001b[39;00m i \u001b[38;5;129;01min\u001b[39;00m train_set],\n\u001b[1;32m      4\u001b[0m                  \u001b[38;5;124m'\u001b[39m\u001b[38;5;124muser\u001b[39m\u001b[38;5;124m'\u001b[39m: [user_list[i] \u001b[38;5;28;01mfor\u001b[39;00m i \u001b[38;5;129;01min\u001b[39;00m train_set]\n\u001b[1;32m      5\u001b[0m                   } \n\u001b[1;32m      7\u001b[0m dataset_test \u001b[38;5;241m=\u001b[39m {\u001b[38;5;124m'\u001b[39m\u001b[38;5;124mx\u001b[39m\u001b[38;5;124m'\u001b[39m:  [x_list[i] \u001b[38;5;28;01mfor\u001b[39;00m i \u001b[38;5;129;01min\u001b[39;00m test_set],\n\u001b[1;32m      8\u001b[0m                  \u001b[38;5;124m'\u001b[39m\u001b[38;5;124my\u001b[39m\u001b[38;5;124m'\u001b[39m: [y_num_list[i] \u001b[38;5;28;01mfor\u001b[39;00m i \u001b[38;5;129;01min\u001b[39;00m test_set],\n\u001b[1;32m      9\u001b[0m                  \u001b[38;5;124m'\u001b[39m\u001b[38;5;124my_hot\u001b[39m\u001b[38;5;124m'\u001b[39m: [one_hot_labels_list[i] \u001b[38;5;28;01mfor\u001b[39;00m i \u001b[38;5;129;01min\u001b[39;00m test_set],\n\u001b[1;32m     10\u001b[0m                  \u001b[38;5;124m'\u001b[39m\u001b[38;5;124muser\u001b[39m\u001b[38;5;124m'\u001b[39m: [user_list[i] \u001b[38;5;28;01mfor\u001b[39;00m i \u001b[38;5;129;01min\u001b[39;00m test_set]\n\u001b[1;32m     11\u001b[0m                   } \n",
      "\u001b[0;31mNameError\u001b[0m: name 'train_set' is not defined"
     ]
    }
   ],
   "source": [
    "dataset_train = {'x':  [x_list[i] for i in train_set],\n",
    "                 'y': [y_num_list[i] for i in train_set],\n",
    "                 'y_hot': [one_hot_labels_list[i] for i in train_set],\n",
    "                 'user': [user_list[i] for i in train_set]\n",
    "                  } \n",
    "\n",
    "dataset_test = {'x':  [x_list[i] for i in test_set],\n",
    "                 'y': [y_num_list[i] for i in test_set],\n",
    "                 'y_hot': [one_hot_labels_list[i] for i in test_set],\n",
    "                 'user': [user_list[i] for i in test_set]\n",
    "                  } "
   ]
  },
  {
   "cell_type": "code",
   "execution_count": 4,
   "metadata": {},
   "outputs": [
    {
     "ename": "ModuleNotFoundError",
     "evalue": "No module named 'imblearn'",
     "output_type": "error",
     "traceback": [
      "\u001b[0;31m---------------------------------------------------------------------------\u001b[0m",
      "\u001b[0;31mModuleNotFoundError\u001b[0m                       Traceback (most recent call last)",
      "Cell \u001b[0;32mIn[4], line 2\u001b[0m\n\u001b[1;32m      1\u001b[0m \u001b[38;5;28;01mfrom\u001b[39;00m \u001b[38;5;21;01mcollections\u001b[39;00m \u001b[38;5;28;01mimport\u001b[39;00m Counter\n\u001b[0;32m----> 2\u001b[0m \u001b[38;5;28;01mfrom\u001b[39;00m \u001b[38;5;21;01mimblearn\u001b[39;00m\u001b[38;5;21;01m.\u001b[39;00m\u001b[38;5;21;01munder_sampling\u001b[39;00m \u001b[38;5;28;01mimport\u001b[39;00m RandomUnderSampler\n",
      "\u001b[0;31mModuleNotFoundError\u001b[0m: No module named 'imblearn'"
     ]
    }
   ],
   "source": [
    "from collections import Counter\n",
    "from imblearn.under_sampling import RandomUnderSampler"
   ]
  },
  {
   "cell_type": "code",
   "execution_count": null,
   "metadata": {
    "execution": {
     "iopub.status.busy": "2023-05-31T14:46:55.749528Z",
     "iopub.status.idle": "2023-05-31T14:46:55.750069Z",
     "shell.execute_reply": "2023-05-31T14:46:55.749808Z",
     "shell.execute_reply.started": "2023-05-31T14:46:55.749781Z"
    }
   },
   "outputs": [],
   "source": [
    "dataset_train_y = [y[0] for y in dataset_train['y']]"
   ]
  },
  {
   "cell_type": "code",
   "execution_count": null,
   "metadata": {
    "execution": {
     "iopub.status.busy": "2023-05-31T14:46:55.751621Z",
     "iopub.status.idle": "2023-05-31T14:46:55.752170Z",
     "shell.execute_reply": "2023-05-31T14:46:55.751897Z",
     "shell.execute_reply.started": "2023-05-31T14:46:55.751869Z"
    }
   },
   "outputs": [],
   "source": [
    "np.array(dataset_train_y)"
   ]
  },
  {
   "cell_type": "code",
   "execution_count": null,
   "metadata": {
    "execution": {
     "iopub.status.busy": "2023-05-31T14:46:55.754084Z",
     "iopub.status.idle": "2023-05-31T14:46:55.754811Z",
     "shell.execute_reply": "2023-05-31T14:46:55.754477Z",
     "shell.execute_reply.started": "2023-05-31T14:46:55.754428Z"
    }
   },
   "outputs": [],
   "source": [
    "print(\"Before undersampling: \", Counter(dataset_train_y))"
   ]
  },
  {
   "cell_type": "code",
   "execution_count": null,
   "metadata": {
    "execution": {
     "iopub.status.busy": "2023-05-31T14:46:55.756630Z",
     "iopub.status.idle": "2023-05-31T14:46:55.757337Z",
     "shell.execute_reply": "2023-05-31T14:46:55.757023Z",
     "shell.execute_reply.started": "2023-05-31T14:46:55.756966Z"
    }
   },
   "outputs": [],
   "source": [
    "dataset_train['x'][0].shape"
   ]
  },
  {
   "cell_type": "code",
   "execution_count": null,
   "metadata": {
    "execution": {
     "iopub.status.busy": "2023-05-31T14:46:55.759030Z",
     "iopub.status.idle": "2023-05-31T14:46:55.759708Z",
     "shell.execute_reply": "2023-05-31T14:46:55.759384Z",
     "shell.execute_reply.started": "2023-05-31T14:46:55.759348Z"
    }
   },
   "outputs": [],
   "source": [
    "new_array = np.array([np.array([x[:, 0], x[:, 1], x[:, 2]]).reshape(600, ) for x in dataset_train['x']])\n",
    "plt.plot(new_array[0])\n",
    "plt.plot(dataset_train['x'][0])"
   ]
  },
  {
   "cell_type": "code",
   "execution_count": null,
   "metadata": {
    "execution": {
     "iopub.status.busy": "2023-05-31T14:46:55.762255Z",
     "iopub.status.idle": "2023-05-31T14:46:55.763015Z",
     "shell.execute_reply": "2023-05-31T14:46:55.762775Z",
     "shell.execute_reply.started": "2023-05-31T14:46:55.762744Z"
    }
   },
   "outputs": [],
   "source": [
    "# define undersampling strategy\n",
    "undersample = RandomUnderSampler(sampling_strategy='majority')\n",
    "\n",
    "\n",
    "# fit and apply the transform\n",
    "X_train_under, y_train_under = undersample.fit_resample(np.array(new_array), np.array(dataset_train_y))"
   ]
  },
  {
   "cell_type": "code",
   "execution_count": null,
   "metadata": {
    "execution": {
     "iopub.status.busy": "2023-05-31T14:46:55.764344Z",
     "iopub.status.idle": "2023-05-31T14:46:55.765181Z",
     "shell.execute_reply": "2023-05-31T14:46:55.764945Z",
     "shell.execute_reply.started": "2023-05-31T14:46:55.764916Z"
    }
   },
   "outputs": [],
   "source": [
    "print(\"Before undersampling: \", Counter(y_train_under))"
   ]
  },
  {
   "cell_type": "code",
   "execution_count": null,
   "metadata": {
    "execution": {
     "iopub.status.busy": "2023-05-31T14:46:55.766528Z",
     "iopub.status.idle": "2023-05-31T14:46:55.767008Z",
     "shell.execute_reply": "2023-05-31T14:46:55.766785Z",
     "shell.execute_reply.started": "2023-05-31T14:46:55.766761Z"
    }
   },
   "outputs": [],
   "source": [
    "X_train_under, y_train_under = undersample.fit_resample(X_train_under, y_train_under)"
   ]
  },
  {
   "cell_type": "code",
   "execution_count": null,
   "metadata": {
    "execution": {
     "iopub.status.busy": "2023-05-31T14:46:55.768512Z",
     "iopub.status.idle": "2023-05-31T14:46:55.768975Z",
     "shell.execute_reply": "2023-05-31T14:46:55.768778Z",
     "shell.execute_reply.started": "2023-05-31T14:46:55.768754Z"
    }
   },
   "outputs": [],
   "source": [
    "X_train_under.shape"
   ]
  },
  {
   "cell_type": "code",
   "execution_count": null,
   "metadata": {
    "execution": {
     "iopub.status.busy": "2023-05-31T14:46:55.770406Z",
     "iopub.status.idle": "2023-05-31T14:46:55.770845Z",
     "shell.execute_reply": "2023-05-31T14:46:55.770651Z",
     "shell.execute_reply.started": "2023-05-31T14:46:55.770627Z"
    }
   },
   "outputs": [],
   "source": [
    "print(\"Before undersampling: \", Counter(y_train_under))"
   ]
  },
  {
   "cell_type": "code",
   "execution_count": null,
   "metadata": {
    "execution": {
     "iopub.status.busy": "2023-05-31T14:46:55.772189Z",
     "iopub.status.idle": "2023-05-31T14:46:55.772634Z",
     "shell.execute_reply": "2023-05-31T14:46:55.772438Z",
     "shell.execute_reply.started": "2023-05-31T14:46:55.772415Z"
    }
   },
   "outputs": [],
   "source": [
    "X_train_under[0][400:].shape"
   ]
  },
  {
   "cell_type": "code",
   "execution_count": null,
   "metadata": {
    "execution": {
     "iopub.status.busy": "2023-05-31T14:46:55.774126Z",
     "iopub.status.idle": "2023-05-31T14:46:55.774580Z",
     "shell.execute_reply": "2023-05-31T14:46:55.774381Z",
     "shell.execute_reply.started": "2023-05-31T14:46:55.774356Z"
    }
   },
   "outputs": [],
   "source": [
    "y_train_under.shape[0]"
   ]
  },
  {
   "cell_type": "code",
   "execution_count": null,
   "metadata": {
    "execution": {
     "iopub.status.busy": "2023-05-31T14:46:55.775772Z",
     "iopub.status.idle": "2023-05-31T14:46:55.776275Z",
     "shell.execute_reply": "2023-05-31T14:46:55.776043Z",
     "shell.execute_reply.started": "2023-05-31T14:46:55.776011Z"
    }
   },
   "outputs": [],
   "source": [
    "# integer_to_onehot(y_train_under, n_labels=3, start_at_zero=False)"
   ]
  },
  {
   "cell_type": "code",
   "execution_count": null,
   "metadata": {
    "execution": {
     "iopub.status.busy": "2023-05-31T14:46:55.777577Z",
     "iopub.status.idle": "2023-05-31T14:46:55.778046Z",
     "shell.execute_reply": "2023-05-31T14:46:55.777825Z",
     "shell.execute_reply.started": "2023-05-31T14:46:55.777802Z"
    }
   },
   "outputs": [],
   "source": [
    "stacked_array = np.column_stack((X_train_under[0][0:200], X_train_under[0][200:400], X_train_under[0][400:]))\n",
    "plt.plot(stacked_array)   "
   ]
  },
  {
   "cell_type": "code",
   "execution_count": null,
   "metadata": {
    "execution": {
     "iopub.status.busy": "2023-05-31T14:46:55.779330Z",
     "iopub.status.idle": "2023-05-31T14:46:55.779982Z",
     "shell.execute_reply": "2023-05-31T14:46:55.779780Z",
     "shell.execute_reply.started": "2023-05-31T14:46:55.779753Z"
    }
   },
   "outputs": [],
   "source": [
    "X_train_under.shape"
   ]
  },
  {
   "cell_type": "code",
   "execution_count": null,
   "metadata": {
    "execution": {
     "iopub.status.busy": "2023-05-31T14:46:55.781619Z",
     "iopub.status.idle": "2023-05-31T14:46:55.782281Z",
     "shell.execute_reply": "2023-05-31T14:46:55.781956Z",
     "shell.execute_reply.started": "2023-05-31T14:46:55.781923Z"
    }
   },
   "outputs": [],
   "source": [
    "dataset_train2 = {'x': X_train_under, #[np.column_stack((x[0:200], x[200:400], x[400:])) for x in X_train_under],\n",
    "                 'y': y_train_under,\n",
    "                 'y_hot': integer_to_onehot(y_train_under, n_labels=3, start_at_zero=False)\n",
    "                }"
   ]
  },
  {
   "cell_type": "code",
   "execution_count": null,
   "metadata": {
    "execution": {
     "iopub.status.busy": "2023-05-31T14:46:55.786120Z",
     "iopub.status.idle": "2023-05-31T14:46:55.786624Z",
     "shell.execute_reply": "2023-05-31T14:46:55.786406Z",
     "shell.execute_reply.started": "2023-05-31T14:46:55.786381Z"
    }
   },
   "outputs": [],
   "source": [
    "plt.hist([y for y in dataset_train2['y_hot']])"
   ]
  },
  {
   "cell_type": "code",
   "execution_count": null,
   "metadata": {
    "execution": {
     "iopub.status.busy": "2023-05-31T14:46:55.788238Z",
     "iopub.status.idle": "2023-05-31T14:46:55.788726Z",
     "shell.execute_reply": "2023-05-31T14:46:55.788520Z",
     "shell.execute_reply.started": "2023-05-31T14:46:55.788487Z"
    }
   },
   "outputs": [],
   "source": [
    "import tensorflow as tf\n",
    "from tensorflow.keras import Sequential\n",
    "from tensorflow.keras.layers import Dense\n",
    "class MLPModel(tf.keras.Sequential):\n",
    "    def __init__(self, input_shape, output_shape, nn=[40, 150], activations=['tanh', 'relu']):\n",
    "        \"\"\"\n",
    "        This class is a MLP TensorFlow model\n",
    "        :param input_shape: shape of the input layer\n",
    "        :type input_shape: int\n",
    "        :param output_shape: shape of the output layer\n",
    "        :type output_shape: int\n",
    "        :param nn: number of neurons in each layer\n",
    "        :type nn: list\n",
    "        :param activations: activation function in each layer\n",
    "        :type activations: list\n",
    "        \"\"\"\n",
    "        super().__init__()\n",
    "        self.__class__.__name__ = \"Sequential\"\n",
    "\n",
    "        for i in range(0, len(nn)):\n",
    "            # add layer\n",
    "            params_tmp = {'units': nn[i], 'activation': activations[i], 'kernel_initializer': \"uniform\"}\n",
    "            if i == 0:\n",
    "                params_tmp['input_shape'] = (None, input_shape)\n",
    "            self.add(tf.keras.layers.Dense(**params_tmp))\n",
    "        # add output layer\n",
    "        self.add(tf.keras.layers.Dense(output_shape, activation='softmax'))"
   ]
  },
  {
   "cell_type": "code",
   "execution_count": null,
   "metadata": {
    "execution": {
     "iopub.status.busy": "2023-05-31T14:46:55.790514Z",
     "iopub.status.idle": "2023-05-31T14:46:55.791461Z",
     "shell.execute_reply": "2023-05-31T14:46:55.791233Z",
     "shell.execute_reply.started": "2023-05-31T14:46:55.791203Z"
    }
   },
   "outputs": [],
   "source": [
    "class NNTensorFlow():\n",
    "    \"\"\"Model to wrap around tensorflow neural networks.\n",
    "    \"\"\"\n",
    "    def __init__(self,\n",
    "                 nn_key='MLP',\n",
    "                 nn_params={},\n",
    "                 n_epochs=10,\n",
    "                 batch_size=100,\n",
    "                 learning_rate=0.001,\n",
    "                 cost_function=\"mean_squared_error\",\n",
    "                 metrics=['accuracy'],\n",
    "                 verbose=True):\n",
    "        \"\"\"Instantiate the model.\n",
    "        :param nn_params: Parameters to pass to the neural network.\n",
    "        :type nn_params: dict\n",
    "        :param n_epochs: The number of epochs.\n",
    "        :type n_epochs: int\n",
    "        :param batch_size: The batch size.\n",
    "        :type batch_size: int\n",
    "        :param learning_rate: The learning rate of the optimizer.\n",
    "        :type learning_rate: float\n",
    "        :param cost_function: Identifier of the cost function. Available losses in keras are described here:\n",
    "        https://keras.io/api/losses/#available-losses\n",
    "        :type cost_function: str\n",
    "        :param verbose: Verbose to pass to model fit step.\n",
    "        :type verbose: boolean\n",
    "        \"\"\"\n",
    "        super().__init__()\n",
    "        self.nn_params = nn_params\n",
    "        if nn_key == 'MLP':\n",
    "            self.nn_model = MLPModel(**nn_params)\n",
    "        else:\n",
    "            self.nn_model = AEModel(**nn_params)\n",
    "        self.n_epochs = n_epochs\n",
    "        self.batch_size = batch_size\n",
    "        self.learning_rate = learning_rate\n",
    "        self.cost_function = cost_function\n",
    "        self.verbose = verbose\n",
    "        self.metrics = metrics\n",
    "\n",
    "    def fit(self, X, y, validation_data=None, continue_training=False):\n",
    "        \"\"\"\n",
    "        Train the neural network.\n",
    "        :param X: Training data.\n",
    "        :type X: array-like or sparse matrix of shape (n_samples, n_features)\n",
    "        :param y: Target values.\n",
    "        :type y: array-like of shape (n_samples,) or (n_samples, n_targets)\n",
    "        :param validation_data: (X, y) validation data\n",
    "        :type validation_data: X is array-like or sparse matrix of shape (n_samples_val, n_features) and y is\n",
    "                               Target validation values.\n",
    "        :param continue_training: True to not re-instantiate the model each it is trained\n",
    "        :type continue_training: bool\n",
    "        :return: An instance of self.\n",
    "        \"\"\"\n",
    "\n",
    "        if not continue_training:\n",
    "            # Re-instantiate neural network in case of hyper-optimization\n",
    "            self.nn_model = MLPModel(**self.nn_params)\n",
    "\n",
    "        # Set optimizer\n",
    "        optimizer_choice = tf.keras.optimizers.Adam(\n",
    "            lr=self.learning_rate,\n",
    "            beta_1=0.9,\n",
    "            beta_2=0.999,\n",
    "            amsgrad=False)\n",
    "\n",
    "        # Compile\n",
    "        # if self.cost_function in COST_FUNCTIONS:\n",
    "        #     self.cost_function = COST_FUNCTIONS[self.cost_function]\n",
    "\n",
    "        self.nn_model.compile(\n",
    "            loss=self.cost_function,\n",
    "            optimizer=optimizer_choice,\n",
    "            metrics=self.metrics\n",
    "        )\n",
    "\n",
    "        # Train the model\n",
    "        self.nn_model.fit(\n",
    "            X, y,\n",
    "            validation_data=validation_data,\n",
    "            batch_size=self.batch_size,\n",
    "            epochs=self.n_epochs,\n",
    "            verbose=self.verbose)\n",
    "\n",
    "        return self\n",
    "\n",
    "    def predict(self, X):\n",
    "        \"\"\"Predict using the neural network.\n",
    "        :param X: Samples.\n",
    "        :type X: array_like or sparse matrix, shape (n_samples, n_features)\n",
    "        :return: Predicted values.\n",
    "        \"\"\"\n",
    "        return self.nn_model.predict(X)\n",
    "\n",
    "    def save(self, model_path, model_name):\n",
    "        \"\"\"Saving the model.\n",
    "        :param model_path: The path where to save it.\n",
    "        :type model_path: string\n",
    "        :param model_name: The name of the model.\n",
    "        :type model_name: string\n",
    "        \"\"\"\n",
    "        # pass\n",
    "        save_keras_model(self.nn_model, model_path, model_name)\n",
    "\n",
    "    def load(self, model_path, model_name):\n",
    "        \"\"\"Loading the model.\n",
    "        :param model_path: The path where to save it.\n",
    "        :type model_path: string\n",
    "        :param model_name: The name of the model.\n",
    "        :type model_name: string\n",
    "        \"\"\"\n",
    "\n",
    "        self.nn_model = load_keras_model(model_path, model_name, custom_loss=self.cost_function)\n",
    "\n",
    "\n",
    "        return self"
   ]
  },
  {
   "cell_type": "code",
   "execution_count": null,
   "metadata": {
    "execution": {
     "iopub.status.busy": "2023-05-31T14:46:55.792779Z",
     "iopub.status.idle": "2023-05-31T14:46:55.793303Z",
     "shell.execute_reply": "2023-05-31T14:46:55.793093Z",
     "shell.execute_reply.started": "2023-05-31T14:46:55.793065Z"
    }
   },
   "outputs": [],
   "source": [
    "import os\n",
    "import joblib\n",
    "from sklearn.pipeline import Pipeline\n",
    "#from utl.paths_utl import create_dir_path\n",
    "#from etl.model_etl import save_default_model, load_default_model\n",
    "\n",
    "\n",
    "class PipeModel(Pipeline):\n",
    "    def __init__(self, steps, **params):\n",
    "        \"\"\"Instantiate the pipeline and the report.\n",
    "        \"\"\"\n",
    "        super().__init__(steps, **params)\n",
    "        self.report = {}\n",
    "\n",
    "    def save(self, model_path, model_name):\n",
    "        \"\"\"Save each step of the pipeline.\n",
    "        :param model_path: The path where to save it.\n",
    "        :type model_path: string\n",
    "        :param model_name: The name of the model.\n",
    "        :type model_name: string\n",
    "        \"\"\"\n",
    "        path_pipe = os.path.join(model_path, model_name)\n",
    "        create_dir_path(path_pipe)\n",
    "\n",
    "        for step_id, step in self.steps:\n",
    "\n",
    "            if hasattr(step, 'save'):\n",
    "                step.save(path_pipe, step_id)\n",
    "\n",
    "            else:\n",
    "                save_default_model(step, path_pipe, step_id)\n",
    "\n",
    "    def load(self, model_path, model_name):\n",
    "        \"\"\"Load each step of the pipeline.\n",
    "        :param model_path: The path where to save it.\n",
    "        :type model_path: string\n",
    "        :param model_name: The name of the model.\n",
    "        :type model_name: string\n",
    "        \"\"\"\n",
    "        path_pipe = os.path.join(model_path, model_name)\n",
    "\n",
    "        new_steps = []\n",
    "        for step_id, step in self.steps:\n",
    "\n",
    "            if hasattr(step, 'load'):\n",
    "                step_tmp = step.load(path_pipe, step_id)\n",
    "\n",
    "            else:\n",
    "                step_tmp = load_default_model(path_pipe, step_id)\n",
    "\n",
    "            new_steps.append((step_id, step_tmp))\n",
    "\n",
    "        self.steps = new_steps\n",
    "\n",
    "        return self\n",
    "\n",
    "    def get_pipeline_params(self):\n",
    "        \"\"\"Returns parameters for this pipeline that can be used to set parameters.\n",
    "        :return: The parameters set for this pipeline.\n",
    "        :rtype: dict\n",
    "        \"\"\"\n",
    "        params = self.get_params()\n",
    "        for step in params['steps']:\n",
    "            params.pop(step[0])\n",
    "        params.pop('steps')\n",
    "        return params\n",
    "\n",
    "    def get_report(self):\n",
    "        \"\"\"Return the reports from each step of the pipeline.\n",
    "        \"\"\"\n",
    "        # Get report from each step\n",
    "        for step_id, step in self.steps:\n",
    "            if hasattr(step, 'report'):\n",
    "                self.report[step_id] = step.report\n",
    "            else:\n",
    "                self.report[step_id] = None\n",
    "\n",
    "        return self.report"
   ]
  },
  {
   "cell_type": "code",
   "execution_count": null,
   "metadata": {
    "execution": {
     "iopub.status.busy": "2023-05-31T14:46:55.794735Z",
     "iopub.status.idle": "2023-05-31T14:46:55.795262Z",
     "shell.execute_reply": "2023-05-31T14:46:55.795043Z",
     "shell.execute_reply.started": "2023-05-31T14:46:55.795008Z"
    }
   },
   "outputs": [],
   "source": [
    "dataset_train2['x'].shape"
   ]
  },
  {
   "cell_type": "code",
   "execution_count": null,
   "metadata": {
    "execution": {
     "iopub.status.busy": "2023-05-31T14:46:55.797358Z",
     "iopub.status.idle": "2023-05-31T14:46:55.797932Z",
     "shell.execute_reply": "2023-05-31T14:46:55.797665Z",
     "shell.execute_reply.started": "2023-05-31T14:46:55.797636Z"
    }
   },
   "outputs": [],
   "source": [
    "params2 = {\n",
    "        'nn_key': 'MLP',\n",
    "        'nn_params': {\n",
    "            'input_shape': dataset_train2['x'].shape[1],\n",
    "            'output_shape': 3,\n",
    "            'nn': [500, 1000, 150],\n",
    "            #'nn': [200, 150],\n",
    "            'activations': ['tanh', 'tanh', 'relu']\n",
    "            #'activations': ['tanh', 'relu']\n",
    "        },\n",
    "        'batch_size': 10,\n",
    "        'cost_function': 'categorical_crossentropy',\n",
    "        'learning_rate': 0.001,\n",
    "        'n_epochs': 200,\n",
    "    \n",
    "        'metrics': ['accuracy']}\n",
    "\n",
    "# Create pipeline\n",
    "# model = Pipeline(steps=[('RobustScaler', StandardScaler()), ('NN', NNTensorFlow(**params2))])\n",
    "pipe = PipeModel(steps=[('NN', NNTensorFlow(**params2))])\n",
    "\n"
   ]
  },
  {
   "cell_type": "code",
   "execution_count": null,
   "metadata": {
    "execution": {
     "iopub.status.busy": "2023-05-31T14:46:55.800235Z",
     "iopub.status.idle": "2023-05-31T14:46:55.800717Z",
     "shell.execute_reply": "2023-05-31T14:46:55.800513Z",
     "shell.execute_reply.started": "2023-05-31T14:46:55.800486Z"
    }
   },
   "outputs": [],
   "source": [
    "X_val = np.asarray(dataset_train2['x'])\n",
    "X = np.asarray(dataset_train2['x'])\n"
   ]
  },
  {
   "cell_type": "code",
   "execution_count": null,
   "metadata": {
    "execution": {
     "iopub.status.busy": "2023-05-31T14:46:55.802398Z",
     "iopub.status.idle": "2023-05-31T14:46:55.802898Z",
     "shell.execute_reply": "2023-05-31T14:46:55.802683Z",
     "shell.execute_reply.started": "2023-05-31T14:46:55.802657Z"
    }
   },
   "outputs": [],
   "source": [
    "dataset_train2['x'].shape"
   ]
  },
  {
   "cell_type": "code",
   "execution_count": null,
   "metadata": {
    "execution": {
     "iopub.status.busy": "2023-05-31T14:46:55.804646Z",
     "iopub.status.idle": "2023-05-31T14:46:55.805188Z",
     "shell.execute_reply": "2023-05-31T14:46:55.804927Z",
     "shell.execute_reply.started": "2023-05-31T14:46:55.804900Z"
    }
   },
   "outputs": [],
   "source": [
    "X.shape"
   ]
  },
  {
   "cell_type": "code",
   "execution_count": null,
   "metadata": {
    "execution": {
     "iopub.status.busy": "2023-05-31T14:46:55.807742Z",
     "iopub.status.idle": "2023-05-31T14:46:55.808463Z",
     "shell.execute_reply": "2023-05-31T14:46:55.808141Z",
     "shell.execute_reply.started": "2023-05-31T14:46:55.808104Z"
    }
   },
   "outputs": [],
   "source": [
    "pipe['NN'].verbose = False"
   ]
  },
  {
   "cell_type": "code",
   "execution_count": null,
   "metadata": {
    "execution": {
     "iopub.status.busy": "2023-05-31T14:46:55.811231Z",
     "iopub.status.idle": "2023-05-31T14:46:55.811919Z",
     "shell.execute_reply": "2023-05-31T14:46:55.811612Z",
     "shell.execute_reply.started": "2023-05-31T14:46:55.811572Z"
    }
   },
   "outputs": [],
   "source": [
    "y = np.array(dataset_train2['y_hot'])\n",
    "#params_pipeline = {}\n",
    "#params_pipeline[pipe.steps[-1][0] + \"__validation_data\"] = (X_val.reshape(X_val.shape[0], X_val.shape[2]), y)\n",
    "pipe.fit(X, y)"
   ]
  },
  {
   "cell_type": "code",
   "execution_count": null,
   "metadata": {
    "execution": {
     "iopub.status.busy": "2023-05-31T14:46:55.814208Z",
     "iopub.status.idle": "2023-05-31T14:46:55.814897Z",
     "shell.execute_reply": "2023-05-31T14:46:55.814587Z",
     "shell.execute_reply.started": "2023-05-31T14:46:55.814550Z"
    }
   },
   "outputs": [],
   "source": [
    "y_one_value = [y[0] - 1 for y in dataset_test['y']]"
   ]
  },
  {
   "cell_type": "code",
   "execution_count": null,
   "metadata": {
    "execution": {
     "iopub.status.busy": "2023-05-31T14:46:55.818033Z",
     "iopub.status.idle": "2023-05-31T14:46:55.819201Z",
     "shell.execute_reply": "2023-05-31T14:46:55.818849Z",
     "shell.execute_reply.started": "2023-05-31T14:46:55.818805Z"
    }
   },
   "outputs": [],
   "source": [
    "def flatting_array_consecutive(in_array):\n",
    "    return in_array.ravel('F')\n",
    "\n",
    "def unflatting_array_consecutive(in_array, size=3):\n",
    "    return in_array.reshape(size, -1).T"
   ]
  },
  {
   "cell_type": "code",
   "execution_count": null,
   "metadata": {
    "execution": {
     "iopub.status.busy": "2023-05-31T14:46:55.821389Z",
     "iopub.status.idle": "2023-05-31T14:46:55.822080Z",
     "shell.execute_reply": "2023-05-31T14:46:55.821760Z",
     "shell.execute_reply.started": "2023-05-31T14:46:55.821725Z"
    }
   },
   "outputs": [],
   "source": [
    "x = dataset_test['x'][0]\n",
    "plt.plot(x)"
   ]
  },
  {
   "cell_type": "code",
   "execution_count": null,
   "metadata": {
    "execution": {
     "iopub.status.busy": "2023-05-31T14:46:55.823811Z",
     "iopub.status.idle": "2023-05-31T14:46:55.824505Z",
     "shell.execute_reply": "2023-05-31T14:46:55.824192Z",
     "shell.execute_reply.started": "2023-05-31T14:46:55.824153Z"
    }
   },
   "outputs": [],
   "source": [
    "y_pred = pipe.predict(np.asarray(np.array([flatting_array_consecutive(x) for x in dataset_test['x']])))\n",
    "y_pred.shape"
   ]
  },
  {
   "cell_type": "code",
   "execution_count": null,
   "metadata": {
    "execution": {
     "iopub.status.busy": "2023-05-31T14:46:55.826286Z",
     "iopub.status.idle": "2023-05-31T14:46:55.826761Z",
     "shell.execute_reply": "2023-05-31T14:46:55.826560Z",
     "shell.execute_reply.started": "2023-05-31T14:46:55.826535Z"
    }
   },
   "outputs": [],
   "source": [
    "params_pipeline = {}\n",
    "params_pipeline[pipe.steps[-1][0] + \"__continue_training\"] = True"
   ]
  },
  {
   "cell_type": "code",
   "execution_count": null,
   "metadata": {
    "execution": {
     "iopub.status.busy": "2023-05-31T14:46:55.829272Z",
     "iopub.status.idle": "2023-05-31T14:46:55.829911Z",
     "shell.execute_reply": "2023-05-31T14:46:55.829685Z",
     "shell.execute_reply.started": "2023-05-31T14:46:55.829655Z"
    }
   },
   "outputs": [],
   "source": [
    "pipe['NN'].learning_rate"
   ]
  },
  {
   "cell_type": "code",
   "execution_count": null,
   "metadata": {
    "execution": {
     "iopub.status.busy": "2023-05-31T14:46:55.839138Z",
     "iopub.status.idle": "2023-05-31T14:46:55.839869Z",
     "shell.execute_reply": "2023-05-31T14:46:55.839624Z",
     "shell.execute_reply.started": "2023-05-31T14:46:55.839592Z"
    }
   },
   "outputs": [],
   "source": [
    "pipe['NN'].learning_rate = 0.01\n",
    "pipe.fit(X, y, **params_pipeline)\n",
    "y_pred = pipe.predict(np.asarray(np.array([flatting_array_consecutive(x) for x in dataset_test['x']])))\n",
    "y_pred.shape\n",
    "accuracy_score(integer_to_onehot(np.asarray(y_one_value), n_labels=3), integer_to_onehot(tf.argmax(y_pred, axis=1), n_labels=3))"
   ]
  },
  {
   "cell_type": "code",
   "execution_count": null,
   "metadata": {
    "execution": {
     "iopub.status.busy": "2023-05-31T14:46:55.841634Z",
     "iopub.status.idle": "2023-05-31T14:46:55.842269Z",
     "shell.execute_reply": "2023-05-31T14:46:55.842051Z",
     "shell.execute_reply.started": "2023-05-31T14:46:55.842022Z"
    }
   },
   "outputs": [],
   "source": [
    "pipe['NN'].learning_rate = 0.001\n",
    "pipe.fit(X, y, **params_pipeline)\n",
    "y_pred = pipe.predict(np.asarray(np.array([flatting_array_consecutive(x) for x in dataset_test['x']])))\n",
    "y_pred.shape\n",
    "accuracy_score(integer_to_onehot(np.asarray(y_one_value), n_labels=3), integer_to_onehot(tf.argmax(y_pred, axis=1), n_labels=3))"
   ]
  },
  {
   "cell_type": "code",
   "execution_count": null,
   "metadata": {
    "execution": {
     "iopub.status.busy": "2023-05-31T14:46:55.843562Z",
     "iopub.status.idle": "2023-05-31T14:46:55.844145Z",
     "shell.execute_reply": "2023-05-31T14:46:55.843918Z",
     "shell.execute_reply.started": "2023-05-31T14:46:55.843893Z"
    }
   },
   "outputs": [],
   "source": [
    "plt.plot(y_one_value, 'k')\n",
    "plt.plot(tf.argmax(y_pred, axis=1), 'r--')\n",
    "plt.show()"
   ]
  },
  {
   "cell_type": "code",
   "execution_count": null,
   "metadata": {
    "execution": {
     "iopub.status.busy": "2023-05-31T14:46:55.845345Z",
     "iopub.status.idle": "2023-05-31T14:46:55.845896Z",
     "shell.execute_reply": "2023-05-31T14:46:55.845695Z",
     "shell.execute_reply.started": "2023-05-31T14:46:55.845670Z"
    }
   },
   "outputs": [],
   "source": [
    "pipe['NN'].learning_rate = 0.0001\n",
    "pipe.fit(X, y, **params_pipeline)\n",
    "y_pred = pipe.predict(np.asarray(np.array([flatting_array_consecutive(x) for x in dataset_test['x']])))\n",
    "y_pred.shape\n",
    "accuracy_score(integer_to_onehot(np.asarray(y_one_value), n_labels=3), integer_to_onehot(tf.argmax(y_pred, axis=1), n_labels=3))"
   ]
  },
  {
   "cell_type": "code",
   "execution_count": null,
   "metadata": {
    "execution": {
     "iopub.status.busy": "2023-05-31T14:46:55.848474Z",
     "iopub.status.idle": "2023-05-31T14:46:55.849742Z",
     "shell.execute_reply": "2023-05-31T14:46:55.849505Z",
     "shell.execute_reply.started": "2023-05-31T14:46:55.849459Z"
    }
   },
   "outputs": [],
   "source": [
    "plt.plot(y_one_value, 'k')\n",
    "plt.plot(tf.argmax(y_pred, axis=1), 'r--')\n",
    "plt.show()"
   ]
  },
  {
   "cell_type": "code",
   "execution_count": null,
   "metadata": {
    "execution": {
     "iopub.status.busy": "2023-05-31T14:46:55.852751Z",
     "iopub.status.idle": "2023-05-31T14:46:55.853372Z",
     "shell.execute_reply": "2023-05-31T14:46:55.853151Z",
     "shell.execute_reply.started": "2023-05-31T14:46:55.853121Z"
    }
   },
   "outputs": [],
   "source": [
    "pipe['NN'].learning_rate = 0.01\n",
    "pipe.fit(X, y, **params_pipeline)\n",
    "y_pred = pipe.predict(np.asarray(np.array([flatting_array_consecutive(x) for x in dataset_test['x']])))\n",
    "y_pred.shape\n",
    "accuracy_score(integer_to_onehot(np.asarray(y_one_value), n_labels=3), integer_to_onehot(tf.argmax(y_pred, axis=1), n_labels=3))"
   ]
  },
  {
   "cell_type": "code",
   "execution_count": null,
   "metadata": {
    "execution": {
     "iopub.status.busy": "2023-05-31T14:46:55.855746Z",
     "iopub.status.idle": "2023-05-31T14:46:55.856306Z",
     "shell.execute_reply": "2023-05-31T14:46:55.856082Z",
     "shell.execute_reply.started": "2023-05-31T14:46:55.856052Z"
    }
   },
   "outputs": [],
   "source": [
    "plt.plot(y_one_value, 'k')\n",
    "plt.plot(tf.argmax(y_pred, axis=1), 'r--')\n",
    "plt.show()"
   ]
  },
  {
   "cell_type": "code",
   "execution_count": null,
   "metadata": {
    "execution": {
     "iopub.status.busy": "2023-05-31T14:46:55.858425Z",
     "iopub.status.idle": "2023-05-31T14:46:55.858965Z",
     "shell.execute_reply": "2023-05-31T14:46:55.858746Z",
     "shell.execute_reply.started": "2023-05-31T14:46:55.858716Z"
    }
   },
   "outputs": [],
   "source": [
    "pipe['NN'].learning_rate = 0.01\n",
    "pipe.fit(X, y, **params_pipeline)\n",
    "y_pred = pipe.predict(np.asarray(np.array([flatting_array_consecutive(x) for x in dataset_test['x']])))\n",
    "y_pred.shape\n",
    "accuracy_score(integer_to_onehot(np.asarray(y_one_value), n_labels=3), integer_to_onehot(tf.argmax(y_pred, axis=1), n_labels=3))"
   ]
  },
  {
   "cell_type": "code",
   "execution_count": null,
   "metadata": {
    "execution": {
     "iopub.status.busy": "2023-05-31T14:46:55.860844Z",
     "iopub.status.idle": "2023-05-31T14:46:55.861599Z",
     "shell.execute_reply": "2023-05-31T14:46:55.861372Z",
     "shell.execute_reply.started": "2023-05-31T14:46:55.861343Z"
    }
   },
   "outputs": [],
   "source": [
    "tf.argmax(y_pred, axis=1)"
   ]
  },
  {
   "cell_type": "code",
   "execution_count": null,
   "metadata": {
    "execution": {
     "iopub.status.busy": "2023-05-31T14:46:55.863726Z",
     "iopub.status.idle": "2023-05-31T14:46:55.864292Z",
     "shell.execute_reply": "2023-05-31T14:46:55.864062Z",
     "shell.execute_reply.started": "2023-05-31T14:46:55.864029Z"
    }
   },
   "outputs": [],
   "source": [
    "plt.plot(y_one_value, 'k')\n",
    "plt.plot(tf.argmax(y_pred, axis=1), 'r--')\n",
    "plt.show()"
   ]
  },
  {
   "cell_type": "markdown",
   "metadata": {},
   "source": [
    "# Training using features"
   ]
  },
  {
   "cell_type": "code",
   "execution_count": null,
   "metadata": {
    "execution": {
     "iopub.status.busy": "2023-05-31T14:46:55.865841Z",
     "iopub.status.idle": "2023-05-31T14:46:55.866374Z",
     "shell.execute_reply": "2023-05-31T14:46:55.866159Z",
     "shell.execute_reply.started": "2023-05-31T14:46:55.866132Z"
    }
   },
   "outputs": [],
   "source": [
    "dataset_train2['x'][0].shape"
   ]
  },
  {
   "cell_type": "code",
   "execution_count": null,
   "metadata": {
    "execution": {
     "iopub.status.busy": "2023-05-31T14:46:55.868406Z",
     "iopub.status.idle": "2023-05-31T14:46:55.868913Z",
     "shell.execute_reply": "2023-05-31T14:46:55.868700Z",
     "shell.execute_reply.started": "2023-05-31T14:46:55.868671Z"
    }
   },
   "outputs": [],
   "source": [
    "stacked_array = unflatting_array_consecutive(dataset_train2['x'][0], size=3)"
   ]
  },
  {
   "cell_type": "code",
   "execution_count": null,
   "metadata": {
    "execution": {
     "iopub.status.busy": "2023-05-31T14:46:55.871210Z",
     "iopub.status.idle": "2023-05-31T14:46:55.871724Z",
     "shell.execute_reply": "2023-05-31T14:46:55.871509Z",
     "shell.execute_reply.started": "2023-05-31T14:46:55.871481Z"
    }
   },
   "outputs": [],
   "source": [
    "plt.plot(dataset_train2['x'][0])\n",
    "plt.plot(stacked_array)"
   ]
  },
  {
   "cell_type": "markdown",
   "metadata": {},
   "source": [
    "## Proessing 3a"
   ]
  },
  {
   "cell_type": "markdown",
   "metadata": {
    "execution": {
     "iopub.execute_input": "2023-05-23T07:03:22.564851Z",
     "iopub.status.busy": "2023-05-23T07:03:22.564339Z",
     "iopub.status.idle": "2023-05-23T07:03:22.571732Z",
     "shell.execute_reply": "2023-05-23T07:03:22.569891Z",
     "shell.execute_reply.started": "2023-05-23T07:03:22.564809Z"
    }
   },
   "source": [
    "### Step 1: Filtering and calibration"
   ]
  },
  {
   "cell_type": "code",
   "execution_count": null,
   "metadata": {
    "execution": {
     "iopub.status.busy": "2023-05-31T14:46:55.873928Z",
     "iopub.status.idle": "2023-05-31T14:46:55.874491Z",
     "shell.execute_reply": "2023-05-31T14:46:55.874268Z",
     "shell.execute_reply.started": "2023-05-31T14:46:55.874239Z"
    }
   },
   "outputs": [],
   "source": [
    "import numpy as np\n",
    "from scipy import signal\n",
    "\n",
    "# Constants\n",
    "CUTOFF_FREQUENCY = 5.0  # Cut-off frequency for the low-pass filter\n",
    "\n",
    "# Step 3: Pre-processing\n",
    "# Apply low-pass filter to remove high-frequency noise\n",
    "def apply_low_pass_filter(signal_data, cutoff):\n",
    "    sampling_rate = 100.0  # Replace with actual sampling rate if known\n",
    "    nyquist_frequency = 0.5 * sampling_rate\n",
    "    normalized_cutoff = cutoff / nyquist_frequency\n",
    "    b, a = signal.butter(4, normalized_cutoff, btype='low', analog=False)\n",
    "    filtered_data = signal.filtfilt(b, a, signal_data, axis=0)\n",
    "    return filtered_data\n",
    "\n",
    "# Calibrate the data to remove bias or offset\n",
    "def calibrate_data(signal_data):\n",
    "    calibration_offsets = np.mean(signal_data, axis=0)\n",
    "    calibrated_data = signal_data - calibration_offsets\n",
    "    return calibrated_data"
   ]
  },
  {
   "cell_type": "code",
   "execution_count": null,
   "metadata": {
    "execution": {
     "iopub.status.busy": "2023-05-31T14:46:55.875913Z",
     "iopub.status.idle": "2023-05-31T14:46:55.876447Z",
     "shell.execute_reply": "2023-05-31T14:46:55.876240Z",
     "shell.execute_reply.started": "2023-05-31T14:46:55.876212Z"
    }
   },
   "outputs": [],
   "source": [
    "# Apply pre-processing steps\n",
    "preprocessed_data = stacked_array.copy()  # Make a copy of the data to avoid modifying the original\n",
    "low_pass_filtered_data = apply_low_pass_filter(preprocessed_data, CUTOFF_FREQUENCY)\n",
    "calibrated_data = calibrate_data(low_pass_filtered_data)\n",
    "                                "
   ]
  },
  {
   "cell_type": "code",
   "execution_count": null,
   "metadata": {
    "execution": {
     "iopub.status.busy": "2023-05-31T14:46:55.877923Z",
     "iopub.status.idle": "2023-05-31T14:46:55.878431Z",
     "shell.execute_reply": "2023-05-31T14:46:55.878230Z",
     "shell.execute_reply.started": "2023-05-31T14:46:55.878203Z"
    }
   },
   "outputs": [],
   "source": [
    "plt.plot(low_pass_filtered_data)\n",
    "plt.plot(stacked_array)\n",
    "plt.show()\n",
    "plt.plot(calibrated_data)\n"
   ]
  },
  {
   "cell_type": "markdown",
   "metadata": {},
   "source": [
    "## Step 2: Magnitud of acceleration"
   ]
  },
  {
   "cell_type": "code",
   "execution_count": null,
   "metadata": {
    "execution": {
     "iopub.status.busy": "2023-05-31T14:46:55.879852Z",
     "iopub.status.idle": "2023-05-31T14:46:55.880332Z",
     "shell.execute_reply": "2023-05-31T14:46:55.880131Z",
     "shell.execute_reply.started": "2023-05-31T14:46:55.880106Z"
    }
   },
   "outputs": [],
   "source": [
    "def extract_features(in_data):\n",
    "    \"\"\"\n",
    "    \n",
    "    \"\"\"\n",
    "    # Example feature: Magnitude of the acceleration\n",
    "    magnitudes = np.linalg.norm(in_data, axis=1)\n",
    "    return magnitudes"
   ]
  },
  {
   "cell_type": "code",
   "execution_count": null,
   "metadata": {
    "execution": {
     "iopub.status.busy": "2023-05-31T14:46:55.881933Z",
     "iopub.status.idle": "2023-05-31T14:46:55.882479Z",
     "shell.execute_reply": "2023-05-31T14:46:55.882267Z",
     "shell.execute_reply.started": "2023-05-31T14:46:55.882236Z"
    }
   },
   "outputs": [],
   "source": [
    "magnitud = extract_features(in_data=calibrated_data)"
   ]
  },
  {
   "cell_type": "code",
   "execution_count": null,
   "metadata": {
    "execution": {
     "iopub.status.busy": "2023-05-31T14:46:55.884458Z",
     "iopub.status.idle": "2023-05-31T14:46:55.884915Z",
     "shell.execute_reply": "2023-05-31T14:46:55.884717Z",
     "shell.execute_reply.started": "2023-05-31T14:46:55.884693Z"
    }
   },
   "outputs": [],
   "source": [
    "plt.plot(calibrated_data)\n",
    "plt.show()\n",
    "plt.plot(magnitud)"
   ]
  },
  {
   "cell_type": "markdown",
   "metadata": {},
   "source": [
    "## Step 3: Steps counts"
   ]
  },
  {
   "cell_type": "code",
   "execution_count": null,
   "metadata": {
    "execution": {
     "iopub.status.busy": "2023-05-31T14:46:55.887096Z",
     "iopub.status.idle": "2023-05-31T14:46:55.887534Z",
     "shell.execute_reply": "2023-05-31T14:46:55.887342Z",
     "shell.execute_reply.started": "2023-05-31T14:46:55.887320Z"
    }
   },
   "outputs": [],
   "source": [
    "def detect_steps(in_features, in_window_size, in_threshold):\n",
    "    \"\"\"\n",
    "    count steps\n",
    "    \"\"\"\n",
    "    steps = 0    \n",
    "    dict_patients = []\n",
    "    for i in range(len(in_features) - in_window_size):\n",
    "        feat = {}\n",
    "        # Example algorithm: Threshold-based step detection\n",
    "        window = in_features[i:i+in_window_size]\n",
    "        feat['mean'] = np.nanmean(window)\n",
    "        steps_window = 0\n",
    "        for j in range(len(window)):\n",
    "            if max(window) > in_threshold:\n",
    "                steps_window += 1\n",
    "        feat['steps_window'] = steps_window\n",
    "            \n",
    "        \n",
    "        if max(window) > in_threshold:\n",
    "            steps += 1\n",
    "        dict_patients.append(feat)\n",
    "\n",
    "    return dict_patients"
   ]
  },
  {
   "cell_type": "code",
   "execution_count": null,
   "metadata": {
    "execution": {
     "iopub.status.busy": "2023-05-31T14:46:55.888816Z",
     "iopub.status.idle": "2023-05-31T14:46:55.889273Z",
     "shell.execute_reply": "2023-05-31T14:46:55.889077Z",
     "shell.execute_reply.started": "2023-05-31T14:46:55.889052Z"
    }
   },
   "outputs": [],
   "source": [
    "steps = detect_steps(in_features=magnitud, in_window_size=10, in_threshold=1.2)"
   ]
  },
  {
   "cell_type": "code",
   "execution_count": null,
   "metadata": {
    "execution": {
     "iopub.status.busy": "2023-05-31T14:46:55.890924Z",
     "iopub.status.idle": "2023-05-31T14:46:55.891401Z",
     "shell.execute_reply": "2023-05-31T14:46:55.891194Z",
     "shell.execute_reply.started": "2023-05-31T14:46:55.891169Z"
    }
   },
   "outputs": [],
   "source": [
    "steps = {key: [feat[key] for feat in steps] for key in steps[0].keys()}"
   ]
  },
  {
   "cell_type": "markdown",
   "metadata": {},
   "source": [
    "## Mean, std, rms, max, min, var, kurtosis, skewness, euclidean norm, l1 norm, fft, fft_energy, max_magnitude_fft"
   ]
  },
  {
   "cell_type": "code",
   "execution_count": null,
   "metadata": {
    "execution": {
     "iopub.status.busy": "2023-05-31T14:46:55.892610Z",
     "iopub.status.idle": "2023-05-31T14:46:55.893131Z",
     "shell.execute_reply": "2023-05-31T14:46:55.892886Z",
     "shell.execute_reply.started": "2023-05-31T14:46:55.892860Z"
    }
   },
   "outputs": [],
   "source": [
    "import scipy.stats as stats\n",
    "from scipy.fftpack import fft\n",
    "def extract_features(in_features, in_window_size, in_stride=1):\n",
    "    \"\"\"\n",
    "    extract mean\n",
    "    \"\"\"\n",
    "    dict_patients = []\n",
    "    for i in range(len(in_features) - in_window_size):\n",
    "        feat = {}\n",
    "        # Example algorithm: Threshold-based step detection\n",
    "        window = in_features[i:i+in_window_size]\n",
    "        feat['mean'] = np.nanmean(window, axis=0)\n",
    "        feat['std'] = np.nanstd(window, axis=0)\n",
    "        feat['rms'] = np.sqrt(np.mean(np.square(window), axis=0))\n",
    "        feat['max'] = np.max(window, axis=0)\n",
    "        feat['min'] = np.min(window, axis=0)\n",
    "        feat['var'] = np.var(window, axis=0)\n",
    "        feat['kurtosis'] =  stats.kurtosis(window, axis=0)\n",
    "        feat['skew'] =  stats.skew(window, axis=0)\n",
    "        \n",
    "        feat['euclidean_norm'] = np.mean(np.linalg.norm(window, axis=1))\n",
    "        \n",
    "        feat['l1_norm'] = np.mean(np.linalg.norm(window, ord=1, axis=1))\n",
    "\n",
    "        # Compute frequency domain metrics\n",
    "        feat['fft'] = np.abs(fft(window, axis=0))\n",
    "        feat['fft_energy'] = np.asarray(np.sum(feat['fft'] ** 2, axis=0) / len(feat['fft']))\n",
    "        feat['max_magnitude_fft'] = np.max(feat['fft'], axis=0)\n",
    "        feat['fft_x2'] = fft(window[:, 0])         \n",
    "        dict_patients.append(feat)\n",
    "    \n",
    "    features = {key: [feat[key] for feat in dict_patients] for key in dict_patients[0].keys()}\n",
    "    features['fft_energy'] = np.asarray(features['fft_energy'])\n",
    "    features['max_magnitude_fft'] = np.asarray(features['max_magnitude_fft'])\n",
    "    features['fft'] = np.asarray(features['fft'])\n",
    "    return features\n",
    "    "
   ]
  },
  {
   "cell_type": "code",
   "execution_count": null,
   "metadata": {
    "execution": {
     "iopub.status.busy": "2023-05-31T14:46:55.895122Z",
     "iopub.status.idle": "2023-05-31T14:46:55.895767Z",
     "shell.execute_reply": "2023-05-31T14:46:55.895475Z",
     "shell.execute_reply.started": "2023-05-31T14:46:55.895439Z"
    }
   },
   "outputs": [],
   "source": [
    "features = extract_features(in_features=low_pass_filtered_data, in_window_size=40)\n",
    "#features = {key: [feat[key] for feat in features] for key in features[0].keys()}\n",
    "#features['fft_energy'] = np.asarray(features['fft_energy'])\n",
    "#features['max_magnitude_fft'] = np.asarray(features['max_magnitude_fft'])\n",
    "#features['fft'] = np.asarray(features['fft'])"
   ]
  },
  {
   "cell_type": "code",
   "execution_count": null,
   "metadata": {
    "execution": {
     "iopub.status.busy": "2023-05-31T14:46:55.897337Z",
     "iopub.status.idle": "2023-05-31T14:46:55.898007Z",
     "shell.execute_reply": "2023-05-31T14:46:55.897694Z",
     "shell.execute_reply.started": "2023-05-31T14:46:55.897660Z"
    }
   },
   "outputs": [],
   "source": [
    "print(len(features['fft_energy']))\n",
    "print(features['fft_energy'][0].shape)"
   ]
  },
  {
   "cell_type": "code",
   "execution_count": null,
   "metadata": {
    "execution": {
     "iopub.status.busy": "2023-05-31T14:46:55.900387Z",
     "iopub.status.idle": "2023-05-31T14:46:55.901100Z",
     "shell.execute_reply": "2023-05-31T14:46:55.900770Z",
     "shell.execute_reply.started": "2023-05-31T14:46:55.900723Z"
    }
   },
   "outputs": [],
   "source": [
    "print(len(features['mean']))\n",
    "print(features['mean'][0].shape)"
   ]
  },
  {
   "cell_type": "code",
   "execution_count": null,
   "metadata": {
    "execution": {
     "iopub.status.busy": "2023-05-31T14:46:55.903093Z",
     "iopub.status.idle": "2023-05-31T14:46:55.903786Z",
     "shell.execute_reply": "2023-05-31T14:46:55.903481Z",
     "shell.execute_reply.started": "2023-05-31T14:46:55.903442Z"
    }
   },
   "outputs": [],
   "source": [
    "plt.plot(features['fft'][:, 2, :], 's')\n",
    "plt.show()"
   ]
  },
  {
   "cell_type": "code",
   "execution_count": null,
   "metadata": {
    "execution": {
     "iopub.status.busy": "2023-05-31T14:46:55.906342Z",
     "iopub.status.idle": "2023-05-31T14:46:55.907055Z",
     "shell.execute_reply": "2023-05-31T14:46:55.906719Z",
     "shell.execute_reply.started": "2023-05-31T14:46:55.906681Z"
    }
   },
   "outputs": [],
   "source": [
    "#features['max_magnitude_fft']"
   ]
  },
  {
   "cell_type": "code",
   "execution_count": null,
   "metadata": {
    "execution": {
     "iopub.status.busy": "2023-05-31T14:46:55.908710Z",
     "iopub.status.idle": "2023-05-31T14:46:55.909280Z",
     "shell.execute_reply": "2023-05-31T14:46:55.909058Z",
     "shell.execute_reply.started": "2023-05-31T14:46:55.909031Z"
    }
   },
   "outputs": [],
   "source": [
    "plt.plot(low_pass_filtered_data, 'o')\n",
    "plt.show()\n",
    "plt.plot(features['std'], 'o')"
   ]
  },
  {
   "cell_type": "markdown",
   "metadata": {
    "execution": {
     "iopub.status.busy": "2023-05-26T15:11:17.515856Z",
     "iopub.status.idle": "2023-05-26T15:11:17.517111Z",
     "shell.execute_reply": "2023-05-26T15:11:17.516866Z",
     "shell.execute_reply.started": "2023-05-26T15:11:17.516836Z"
    }
   },
   "source": [
    "in_path = '/kaggle/input/tlvmc-parkinsons-freezing-gait-prediction/train/defog'\n",
    "for dirname, _, filenames in os.walk(in_path):\n",
    "        for filename in filenames:\n",
    "            tmp_path = os.path.join(dirname, filename)\n",
    "            df_data = pd.read_csv(tmp_path)\n",
    "            break\n",
    "a3_data = df_data[['AccV', 'AccML', 'AccAP']].values"
   ]
  },
  {
   "cell_type": "markdown",
   "metadata": {
    "execution": {
     "iopub.status.busy": "2023-05-26T15:11:17.518548Z",
     "iopub.status.idle": "2023-05-26T15:11:17.519599Z",
     "shell.execute_reply": "2023-05-26T15:11:17.519234Z",
     "shell.execute_reply.started": "2023-05-26T15:11:17.519189Z"
    }
   },
   "source": [
    "preprocessed_accelerometer_data = preprocess_data(data=a3_data)\n",
    "magnitud = extract_features(in_data=preprocessed_accelerometer_data)\n",
    "steps = detect_steps(in_features=magnitud, in_window_size=1, in_threshold=1.2)\n",
    "plt.plot(a3_data)\n",
    "plt.show()\n",
    "plt.plot(preprocessed_accelerometer_data)\n",
    "plt.show()\n",
    "plt.plot(magnitud)\n",
    "plt.show()\n",
    "plt.plot(steps)\n",
    "\n"
   ]
  },
  {
   "cell_type": "code",
   "execution_count": null,
   "metadata": {
    "execution": {
     "iopub.status.busy": "2023-05-31T14:46:55.911506Z",
     "iopub.status.idle": "2023-05-31T14:46:55.912020Z",
     "shell.execute_reply": "2023-05-31T14:46:55.911794Z",
     "shell.execute_reply.started": "2023-05-31T14:46:55.911768Z"
    }
   },
   "outputs": [],
   "source": [
    "dataset_features = []        \n",
    "for x in dataset_train2['x']:\n",
    "    x = unflatting_array_consecutive(x, size=3)\n",
    "    #plt.plot(x)\n",
    "    #plt.show()\n",
    "    low_pass_filtered_data = apply_low_pass_filter(x, CUTOFF_FREQUENCY)\n",
    "    #calibrated_data = calibrate_data(low_pass_filtered_data)\n",
    "    features = extract_features(in_features=low_pass_filtered_data, in_window_size=40)\n",
    "    dataset_features.append(features)\n",
    "dataset_features = {key: [feat[key] for feat in dataset_features] for key in dataset_features[0].keys()}\n",
    "\n",
    "    \n",
    "    "
   ]
  },
  {
   "cell_type": "code",
   "execution_count": null,
   "metadata": {
    "execution": {
     "iopub.status.busy": "2023-05-31T14:46:55.913789Z",
     "iopub.status.idle": "2023-05-31T14:46:55.914340Z",
     "shell.execute_reply": "2023-05-31T14:46:55.914125Z",
     "shell.execute_reply.started": "2023-05-31T14:46:55.914098Z"
    }
   },
   "outputs": [],
   "source": [
    "dataset_features.keys()"
   ]
  },
  {
   "cell_type": "code",
   "execution_count": null,
   "metadata": {
    "execution": {
     "iopub.status.busy": "2023-05-31T14:46:55.916412Z",
     "iopub.status.idle": "2023-05-31T14:46:55.916917Z",
     "shell.execute_reply": "2023-05-31T14:46:55.916697Z",
     "shell.execute_reply.started": "2023-05-31T14:46:55.916673Z"
    }
   },
   "outputs": [],
   "source": [
    "dataset_train2.keys()"
   ]
  },
  {
   "cell_type": "code",
   "execution_count": null,
   "metadata": {
    "execution": {
     "iopub.status.busy": "2023-05-31T14:46:55.918550Z",
     "iopub.status.idle": "2023-05-31T14:46:55.919112Z",
     "shell.execute_reply": "2023-05-31T14:46:55.918841Z",
     "shell.execute_reply.started": "2023-05-31T14:46:55.918816Z"
    }
   },
   "outputs": [],
   "source": [
    "dataset_train2.update(dataset_features)"
   ]
  },
  {
   "cell_type": "code",
   "execution_count": null,
   "metadata": {
    "execution": {
     "iopub.status.busy": "2023-05-31T14:46:55.920800Z",
     "iopub.status.idle": "2023-05-31T14:46:55.921772Z",
     "shell.execute_reply": "2023-05-31T14:46:55.921525Z",
     "shell.execute_reply.started": "2023-05-31T14:46:55.921492Z"
    }
   },
   "outputs": [],
   "source": [
    "steps = detect_steps(in_features=magnitud, in_window_size=1, in_threshold=1.2)\n"
   ]
  },
  {
   "cell_type": "code",
   "execution_count": null,
   "metadata": {
    "execution": {
     "iopub.status.busy": "2023-05-31T14:46:55.923630Z",
     "iopub.status.idle": "2023-05-31T14:46:55.924353Z",
     "shell.execute_reply": "2023-05-31T14:46:55.924123Z",
     "shell.execute_reply.started": "2023-05-31T14:46:55.924088Z"
    }
   },
   "outputs": [],
   "source": [
    "dataset_train2.keys()"
   ]
  },
  {
   "cell_type": "code",
   "execution_count": null,
   "metadata": {
    "execution": {
     "iopub.status.busy": "2023-05-31T14:46:55.925971Z",
     "iopub.status.idle": "2023-05-31T14:46:55.926473Z",
     "shell.execute_reply": "2023-05-31T14:46:55.926263Z",
     "shell.execute_reply.started": "2023-05-31T14:46:55.926239Z"
    }
   },
   "outputs": [],
   "source": [
    "for key in ['mean', 'std', 'rms', 'max', 'min', 'var']:\n",
    "    dataset_train2[key + 'flat'] = np.asarray(np.array([flatting_array_consecutive(np.asarray(x)) for x in dataset_train2[key]]))\n",
    "    \n",
    "#mean = flatting_array_consecutive(np.asarray(dataset_train2['mean'][0]))"
   ]
  },
  {
   "cell_type": "code",
   "execution_count": null,
   "metadata": {
    "execution": {
     "iopub.status.busy": "2023-05-31T14:46:55.927826Z",
     "iopub.status.idle": "2023-05-31T14:46:55.928674Z",
     "shell.execute_reply": "2023-05-31T14:46:55.928454Z",
     "shell.execute_reply.started": "2023-05-31T14:46:55.928424Z"
    }
   },
   "outputs": [],
   "source": [
    "dataset_train2.keys()"
   ]
  },
  {
   "cell_type": "code",
   "execution_count": null,
   "metadata": {
    "execution": {
     "iopub.status.busy": "2023-05-31T14:46:55.930579Z",
     "iopub.status.idle": "2023-05-31T14:46:55.931238Z",
     "shell.execute_reply": "2023-05-31T14:46:55.930965Z",
     "shell.execute_reply.started": "2023-05-31T14:46:55.930938Z"
    }
   },
   "outputs": [],
   "source": [
    "if False:\n",
    "    for i in range(len(dataset_train2['meanflat'])):\n",
    "        plt.plot(dataset_train2['meanflat'][i])\n",
    "        plt.show()"
   ]
  },
  {
   "cell_type": "code",
   "execution_count": null,
   "metadata": {
    "execution": {
     "iopub.status.busy": "2023-05-31T14:46:55.932884Z",
     "iopub.status.idle": "2023-05-31T14:46:55.933366Z",
     "shell.execute_reply": "2023-05-31T14:46:55.933168Z",
     "shell.execute_reply.started": "2023-05-31T14:46:55.933143Z"
    }
   },
   "outputs": [],
   "source": [
    "new_feat = []\n",
    "for i in range(len(dataset_train2['meanflat'])):\n",
    "    big_feat = []\n",
    "    for keyi in ['meanflat', 'stdflat', 'rmsflat', 'maxflat', 'minflat', 'varflat']:\n",
    "        #print(keyi)\n",
    "        big_feat.append(dataset_train2[keyi][i])\n",
    "        #plt.plot(dataset_train2[keyi][i])\n",
    "        #plt.show()\n",
    "    new_feat.append(np.asarray(np.concatenate(big_feat)))\n",
    "dataset_train2['new_feat'] = new_feat\n",
    "    #plt.plot(np.asarray(np.concatenate(big_feat)))\n",
    "    #plt.show()\n",
    "    #break"
   ]
  },
  {
   "cell_type": "code",
   "execution_count": null,
   "metadata": {
    "execution": {
     "iopub.status.busy": "2023-05-31T14:46:55.934930Z",
     "iopub.status.idle": "2023-05-31T14:46:55.935446Z",
     "shell.execute_reply": "2023-05-31T14:46:55.935242Z",
     "shell.execute_reply.started": "2023-05-31T14:46:55.935216Z"
    }
   },
   "outputs": [],
   "source": [
    "#dataset_train2['new_feat']"
   ]
  },
  {
   "cell_type": "code",
   "execution_count": null,
   "metadata": {
    "execution": {
     "iopub.status.busy": "2023-05-31T14:46:55.936755Z",
     "iopub.status.idle": "2023-05-31T14:46:55.937229Z",
     "shell.execute_reply": "2023-05-31T14:46:55.937034Z",
     "shell.execute_reply.started": "2023-05-31T14:46:55.937009Z"
    }
   },
   "outputs": [],
   "source": [
    "print(len(dataset_train2['new_feat']))\n",
    "print(dataset_train2['new_feat'][0].shape)\n"
   ]
  },
  {
   "cell_type": "code",
   "execution_count": null,
   "metadata": {
    "execution": {
     "iopub.status.busy": "2023-05-31T14:46:55.939009Z",
     "iopub.status.idle": "2023-05-31T14:46:55.939513Z",
     "shell.execute_reply": "2023-05-31T14:46:55.939310Z",
     "shell.execute_reply.started": "2023-05-31T14:46:55.939282Z"
    }
   },
   "outputs": [],
   "source": [
    "X_feat = np.asarray(dataset_train2['new_feat'])"
   ]
  },
  {
   "cell_type": "code",
   "execution_count": null,
   "metadata": {
    "execution": {
     "iopub.status.busy": "2023-05-31T14:46:55.941795Z",
     "iopub.status.idle": "2023-05-31T14:46:55.942319Z",
     "shell.execute_reply": "2023-05-31T14:46:55.942103Z",
     "shell.execute_reply.started": "2023-05-31T14:46:55.942077Z"
    }
   },
   "outputs": [],
   "source": [
    "print(len(dataset_train2['new_feat']))\n",
    "print(X_feat.shape)\n"
   ]
  },
  {
   "cell_type": "code",
   "execution_count": null,
   "metadata": {
    "execution": {
     "iopub.status.busy": "2023-05-31T14:46:55.943464Z",
     "iopub.status.idle": "2023-05-31T14:46:55.943917Z",
     "shell.execute_reply": "2023-05-31T14:46:55.943715Z",
     "shell.execute_reply.started": "2023-05-31T14:46:55.943693Z"
    }
   },
   "outputs": [],
   "source": [
    "params3 = {\n",
    "        'nn_key': 'MLP',\n",
    "        'nn_params': {\n",
    "            'input_shape': X_feat.shape[1],\n",
    "            'output_shape': 3,\n",
    "            'nn': [200, 150],\n",
    "            'activations': ['tanh', 'relu']\n",
    "        },\n",
    "        'batch_size': 10,\n",
    "        'cost_function': 'categorical_crossentropy',\n",
    "        'learning_rate': 0.01,\n",
    "        'n_epochs': 200,\n",
    "    \n",
    "        'metrics': ['accuracy']}\n",
    "\n",
    "# Create pipeline\n",
    "# model = Pipeline(steps=[('RobustScaler', StandardScaler()), ('NN', NNTensorFlow(**params2))])\n",
    "pipe2 = PipeModel(steps=[('NN', NNTensorFlow(**params3))])\n"
   ]
  },
  {
   "cell_type": "code",
   "execution_count": null,
   "metadata": {
    "execution": {
     "iopub.status.busy": "2023-05-31T14:46:55.945697Z",
     "iopub.status.idle": "2023-05-31T14:46:55.946284Z",
     "shell.execute_reply": "2023-05-31T14:46:55.946057Z",
     "shell.execute_reply.started": "2023-05-31T14:46:55.946029Z"
    }
   },
   "outputs": [],
   "source": [
    "pipe2['NN'].verbose = False"
   ]
  },
  {
   "cell_type": "code",
   "execution_count": null,
   "metadata": {
    "execution": {
     "iopub.status.busy": "2023-05-31T14:46:55.947852Z",
     "iopub.status.idle": "2023-05-31T14:46:55.948361Z",
     "shell.execute_reply": "2023-05-31T14:46:55.948162Z",
     "shell.execute_reply.started": "2023-05-31T14:46:55.948138Z"
    }
   },
   "outputs": [],
   "source": [
    "y = np.array(dataset_train2['y_hot'])\n",
    "#params_pipeline = {}\n",
    "#params_pipeline[pipe.steps[-1][0] + \"__validation_data\"] = (X_val.reshape(X_val.shape[0], X_val.shape[2]), y)\n",
    "pipe2.fit(X_feat, y)"
   ]
  },
  {
   "cell_type": "code",
   "execution_count": null,
   "metadata": {
    "execution": {
     "iopub.status.busy": "2023-05-31T14:46:55.950191Z",
     "iopub.status.idle": "2023-05-31T14:46:55.950676Z",
     "shell.execute_reply": "2023-05-31T14:46:55.950463Z",
     "shell.execute_reply.started": "2023-05-31T14:46:55.950439Z"
    }
   },
   "outputs": [],
   "source": [
    "pipe2['NN'].learning_rate = 0.001\n",
    "pipe2.fit(X_feat, y, **params_pipeline)\n"
   ]
  },
  {
   "cell_type": "code",
   "execution_count": null,
   "metadata": {
    "execution": {
     "iopub.status.busy": "2023-05-31T14:46:55.968240Z",
     "iopub.status.idle": "2023-05-31T14:46:55.969151Z",
     "shell.execute_reply": "2023-05-31T14:46:55.968726Z",
     "shell.execute_reply.started": "2023-05-31T14:46:55.968606Z"
    }
   },
   "outputs": [],
   "source": [
    "pipe2['NN'].learning_rate = 0.0001\n",
    "pipe2.fit(X_feat, y, **params_pipeline)"
   ]
  },
  {
   "cell_type": "code",
   "execution_count": null,
   "metadata": {
    "execution": {
     "iopub.status.busy": "2023-05-31T14:46:55.971446Z",
     "iopub.status.idle": "2023-05-31T14:46:55.972078Z",
     "shell.execute_reply": "2023-05-31T14:46:55.971802Z",
     "shell.execute_reply.started": "2023-05-31T14:46:55.971770Z"
    }
   },
   "outputs": [],
   "source": [
    "dataset_test_features = []        \n",
    "for x in dataset_test['x']:\n",
    "    x = unflatting_array_consecutive(x, size=3)\n",
    "    #plt.plot(x)\n",
    "    #plt.show()\n",
    "    low_pass_filtered_data = apply_low_pass_filter(x, CUTOFF_FREQUENCY)\n",
    "    #calibrated_data = calibrate_data(low_pass_filtered_data)\n",
    "    features = extract_features(in_features=low_pass_filtered_data, in_window_size=40)\n",
    "    dataset_test_features.append(features)\n",
    "dataset_test_features = {key: [feat[key] for feat in dataset_test_features] for key in dataset_test_features[0].keys()}"
   ]
  },
  {
   "cell_type": "code",
   "execution_count": null,
   "metadata": {
    "execution": {
     "iopub.status.busy": "2023-05-31T14:46:55.973936Z",
     "iopub.status.idle": "2023-05-31T14:46:55.974912Z",
     "shell.execute_reply": "2023-05-31T14:46:55.974667Z",
     "shell.execute_reply.started": "2023-05-31T14:46:55.974634Z"
    }
   },
   "outputs": [],
   "source": [
    "dataset_test.update(dataset_test_features)"
   ]
  },
  {
   "cell_type": "code",
   "execution_count": null,
   "metadata": {
    "execution": {
     "iopub.status.busy": "2023-05-31T14:46:55.978078Z",
     "iopub.status.idle": "2023-05-31T14:46:55.978711Z",
     "shell.execute_reply": "2023-05-31T14:46:55.978482Z",
     "shell.execute_reply.started": "2023-05-31T14:46:55.978450Z"
    }
   },
   "outputs": [],
   "source": [
    "for key in ['mean', 'std', 'rms', 'max', 'min', 'var']:\n",
    "    dataset_test[key + 'flat'] = np.asarray(np.array([flatting_array_consecutive(np.asarray(x)) for x in dataset_test[key]]))\n",
    "    "
   ]
  },
  {
   "cell_type": "code",
   "execution_count": null,
   "metadata": {
    "execution": {
     "iopub.status.busy": "2023-05-31T14:46:55.980347Z",
     "iopub.status.idle": "2023-05-31T14:46:55.980852Z",
     "shell.execute_reply": "2023-05-31T14:46:55.980640Z",
     "shell.execute_reply.started": "2023-05-31T14:46:55.980611Z"
    }
   },
   "outputs": [],
   "source": [
    "new_feat = []\n",
    "for i in range(len(dataset_test['meanflat'])):\n",
    "    big_feat = []\n",
    "    for keyi in ['meanflat', 'stdflat', 'rmsflat', 'maxflat', 'minflat', 'varflat']:\n",
    "        # print(keyi)\n",
    "        big_feat.append(dataset_test[keyi][i])\n",
    "        #plt.plot(dataset_train2[keyi][i])\n",
    "        #plt.show()\n",
    "    new_feat.append(np.asarray(np.concatenate(big_feat)))\n",
    "dataset_test['new_feat'] = new_feat\n",
    "    #plt.plot(np.asarray(np.concatenate(big_feat)))\n",
    "    #plt.show()\n",
    "    #break"
   ]
  },
  {
   "cell_type": "code",
   "execution_count": null,
   "metadata": {
    "execution": {
     "iopub.status.busy": "2023-05-31T14:46:55.982168Z",
     "iopub.status.idle": "2023-05-31T14:46:55.982666Z",
     "shell.execute_reply": "2023-05-31T14:46:55.982459Z",
     "shell.execute_reply.started": "2023-05-31T14:46:55.982431Z"
    }
   },
   "outputs": [],
   "source": [
    "y_pred = pipe2.predict(np.asarray(np.array([flatting_array_consecutive(x) for x in dataset_test['new_feat']])))\n",
    "y_pred.shape\n",
    "accuracy_score(integer_to_onehot(np.asarray(y_one_value), n_labels=3), integer_to_onehot(tf.argmax(y_pred, axis=1), n_labels=3))"
   ]
  },
  {
   "cell_type": "code",
   "execution_count": null,
   "metadata": {
    "execution": {
     "iopub.status.busy": "2023-05-31T14:46:55.984419Z",
     "iopub.status.idle": "2023-05-31T14:46:55.984915Z",
     "shell.execute_reply": "2023-05-31T14:46:55.984699Z",
     "shell.execute_reply.started": "2023-05-31T14:46:55.984672Z"
    }
   },
   "outputs": [],
   "source": [
    "plt.plot(y_one_value, 'k')\n",
    "plt.plot(tf.argmax(y_pred, axis=1), 'r--')\n",
    "plt.show()"
   ]
  },
  {
   "cell_type": "code",
   "execution_count": null,
   "metadata": {
    "execution": {
     "iopub.status.busy": "2023-05-31T14:46:55.987430Z",
     "iopub.status.idle": "2023-05-31T14:46:55.988047Z",
     "shell.execute_reply": "2023-05-31T14:46:55.987777Z",
     "shell.execute_reply.started": "2023-05-31T14:46:55.987748Z"
    }
   },
   "outputs": [],
   "source": [
    "pipe2['NN'].learning_rate = 0.0001\n",
    "pipe2.fit(X_feat, y, **params_pipeline)"
   ]
  },
  {
   "cell_type": "code",
   "execution_count": null,
   "metadata": {
    "execution": {
     "iopub.status.busy": "2023-05-31T14:46:55.990123Z",
     "iopub.status.idle": "2023-05-31T14:46:55.990589Z",
     "shell.execute_reply": "2023-05-31T14:46:55.990390Z",
     "shell.execute_reply.started": "2023-05-31T14:46:55.990364Z"
    }
   },
   "outputs": [],
   "source": [
    "y_pred = pipe2.predict(np.asarray(np.array([flatting_array_consecutive(x) for x in dataset_test['new_feat']])))\n",
    "y_pred.shape\n",
    "accuracy_score(integer_to_onehot(np.asarray(y_one_value), n_labels=3), integer_to_onehot(tf.argmax(y_pred, axis=1), n_labels=3))"
   ]
  },
  {
   "cell_type": "code",
   "execution_count": null,
   "metadata": {
    "execution": {
     "iopub.status.busy": "2023-05-31T14:46:55.994279Z",
     "iopub.status.idle": "2023-05-31T14:46:55.994841Z",
     "shell.execute_reply": "2023-05-31T14:46:55.994619Z",
     "shell.execute_reply.started": "2023-05-31T14:46:55.994590Z"
    }
   },
   "outputs": [],
   "source": [
    "params_pipeline = {}\n",
    "params_pipeline[pipe2.steps[-1][0] + \"__continue_training\"] = True"
   ]
  },
  {
   "cell_type": "code",
   "execution_count": null,
   "metadata": {
    "execution": {
     "iopub.status.busy": "2023-05-31T14:46:55.996322Z",
     "iopub.status.idle": "2023-05-31T14:46:55.996829Z",
     "shell.execute_reply": "2023-05-31T14:46:55.996621Z",
     "shell.execute_reply.started": "2023-05-31T14:46:55.996594Z"
    }
   },
   "outputs": [],
   "source": [
    "pipe2['NN'].learning_rate = 0.0001\n",
    "pipe2.fit(X_feat, y, **params_pipeline)\n",
    "y_pred = pipe2.predict(np.asarray(np.array([flatting_array_consecutive(x) for x in dataset_test['new_feat']])))\n",
    "y_pred.shape\n",
    "accuracy_score(integer_to_onehot(np.asarray(y_one_value), n_labels=3), integer_to_onehot(tf.argmax(y_pred, axis=1), n_labels=3))"
   ]
  },
  {
   "cell_type": "code",
   "execution_count": null,
   "metadata": {
    "execution": {
     "iopub.status.busy": "2023-05-31T14:46:55.998316Z",
     "iopub.status.idle": "2023-05-31T14:46:55.998807Z",
     "shell.execute_reply": "2023-05-31T14:46:55.998604Z",
     "shell.execute_reply.started": "2023-05-31T14:46:55.998577Z"
    }
   },
   "outputs": [],
   "source": [
    "plt.plot(y_one_value, 'k')\n",
    "plt.plot(tf.argmax(y_pred, axis=1), 'r--')\n",
    "plt.show()"
   ]
  },
  {
   "cell_type": "code",
   "execution_count": null,
   "metadata": {
    "execution": {
     "iopub.status.busy": "2023-05-31T14:46:56.000061Z",
     "iopub.status.idle": "2023-05-31T14:46:56.000541Z",
     "shell.execute_reply": "2023-05-31T14:46:56.000338Z",
     "shell.execute_reply.started": "2023-05-31T14:46:56.000306Z"
    }
   },
   "outputs": [],
   "source": [
    "pipe2['NN'].learning_rate = 0.0001\n",
    "pipe2.fit(X_feat, y, **params_pipeline)\n",
    "y_pred = pipe2.predict(np.asarray(np.array([flatting_array_consecutive(x) for x in dataset_test['new_feat']])))\n",
    "y_pred.shape\n",
    "accuracy_score(integer_to_onehot(np.asarray(y_one_value), n_labels=3), integer_to_onehot(tf.argmax(y_pred, axis=1), n_labels=3))"
   ]
  },
  {
   "cell_type": "code",
   "execution_count": null,
   "metadata": {
    "execution": {
     "iopub.status.busy": "2023-05-31T14:46:56.002185Z",
     "iopub.status.idle": "2023-05-31T14:46:56.003354Z",
     "shell.execute_reply": "2023-05-31T14:46:56.003120Z",
     "shell.execute_reply.started": "2023-05-31T14:46:56.003090Z"
    }
   },
   "outputs": [],
   "source": [
    "plt.plot(y_one_value, 'k')\n",
    "plt.plot(tf.argmax(y_pred, axis=1), 'r--')\n",
    "plt.show()"
   ]
  },
  {
   "cell_type": "markdown",
   "metadata": {},
   "source": [
    "# Test"
   ]
  },
  {
   "cell_type": "code",
   "execution_count": null,
   "metadata": {
    "execution": {
     "iopub.status.busy": "2023-05-31T14:46:56.005681Z",
     "iopub.status.idle": "2023-05-31T14:46:56.006206Z",
     "shell.execute_reply": "2023-05-31T14:46:56.005963Z",
     "shell.execute_reply.started": "2023-05-31T14:46:56.005934Z"
    }
   },
   "outputs": [],
   "source": [
    "test_dir1 = \"/kaggle/input/tlvmc-parkinsons-freezing-gait-prediction/test/defog\"\n",
    "in_path = \"/kaggle/input/tlvmc-parkinsons-freezing-gait-prediction/test/defog\"\n",
    "for dirname, _, filenames in os.walk(in_path):\n",
    "        for filename in filenames:\n",
    "            tmp_path = os.path.join(dirname, filename)\n",
    "            df_data = pd.read_csv(tmp_path)\n",
    "            break\n",
    "a3_data = df_data[['AccV', 'AccML', 'AccAP']].values"
   ]
  },
  {
   "cell_type": "code",
   "execution_count": null,
   "metadata": {
    "execution": {
     "iopub.status.busy": "2023-05-31T14:46:56.007941Z",
     "iopub.status.idle": "2023-05-31T14:46:56.008472Z",
     "shell.execute_reply": "2023-05-31T14:46:56.008256Z",
     "shell.execute_reply.started": "2023-05-31T14:46:56.008230Z"
    }
   },
   "outputs": [],
   "source": [
    "a3_data.shape "
   ]
  },
  {
   "cell_type": "code",
   "execution_count": null,
   "metadata": {
    "execution": {
     "iopub.status.busy": "2023-05-31T14:46:56.010383Z",
     "iopub.status.idle": "2023-05-31T14:46:56.010872Z",
     "shell.execute_reply": "2023-05-31T14:46:56.010667Z",
     "shell.execute_reply.started": "2023-05-31T14:46:56.010641Z"
    }
   },
   "outputs": [],
   "source": [
    "# TODO: cut 200"
   ]
  },
  {
   "cell_type": "code",
   "execution_count": null,
   "metadata": {
    "execution": {
     "iopub.status.busy": "2023-05-31T14:46:56.012155Z",
     "iopub.status.idle": "2023-05-31T14:46:56.012632Z",
     "shell.execute_reply": "2023-05-31T14:46:56.012423Z",
     "shell.execute_reply.started": "2023-05-31T14:46:56.012398Z"
    }
   },
   "outputs": [],
   "source": [
    "dataset_test_features = []        \n",
    "in_window_size = 200\n",
    "for a3 in [a3_data]:\n",
    "    # In a signal\n",
    "    for i in range(0, len(a3) - in_window_size, 1):\n",
    "        # Example algorithm: Threshold-based step detection\n",
    "        x = a3[i:i+in_window_size]  \n",
    "        # plt.plot(x)\n",
    "        # plt.show()\n",
    "        low_pass_filtered_data = apply_low_pass_filter(x, CUTOFF_FREQUENCY)\n",
    "        #calibrated_data = calibrate_data(low_pass_filtered_data)\n",
    "        features = extract_features(in_features=low_pass_filtered_data, in_window_size=40)\n",
    "        dataset_test_features.append(features)\n",
    "dataset_test_features = {key: [feat[key] for feat in dataset_test_features] for key in dataset_test_features[0].keys()}"
   ]
  },
  {
   "cell_type": "code",
   "execution_count": null,
   "metadata": {
    "execution": {
     "iopub.status.busy": "2023-05-31T14:46:56.014442Z",
     "iopub.status.idle": "2023-05-31T14:46:56.014921Z",
     "shell.execute_reply": "2023-05-31T14:46:56.014719Z",
     "shell.execute_reply.started": "2023-05-31T14:46:56.014692Z"
    }
   },
   "outputs": [],
   "source": [
    "len(dataset_test_features)"
   ]
  },
  {
   "cell_type": "code",
   "execution_count": null,
   "metadata": {
    "execution": {
     "iopub.status.busy": "2023-05-31T14:46:56.016527Z",
     "iopub.status.idle": "2023-05-31T14:46:56.017053Z",
     "shell.execute_reply": "2023-05-31T14:46:56.016794Z",
     "shell.execute_reply.started": "2023-05-31T14:46:56.016768Z"
    }
   },
   "outputs": [],
   "source": [
    "plt.plot(dataset_test_features['mean'][2])"
   ]
  },
  {
   "cell_type": "code",
   "execution_count": null,
   "metadata": {
    "execution": {
     "iopub.status.busy": "2023-05-31T14:46:56.018850Z",
     "iopub.status.idle": "2023-05-31T14:46:56.020076Z",
     "shell.execute_reply": "2023-05-31T14:46:56.019745Z",
     "shell.execute_reply.started": "2023-05-31T14:46:56.019697Z"
    }
   },
   "outputs": [],
   "source": [
    "dataset_test_features.keys()"
   ]
  },
  {
   "cell_type": "code",
   "execution_count": null,
   "metadata": {
    "execution": {
     "iopub.status.busy": "2023-05-31T14:46:56.021881Z",
     "iopub.status.idle": "2023-05-31T14:46:56.022431Z",
     "shell.execute_reply": "2023-05-31T14:46:56.022215Z",
     "shell.execute_reply.started": "2023-05-31T14:46:56.022187Z"
    }
   },
   "outputs": [],
   "source": [
    "for key in ['mean', 'std', 'rms', 'max', 'min', 'var']:\n",
    "    dataset_test_features[key + 'flat'] = np.asarray(np.array([flatting_array_consecutive(np.asarray(x)) for x in dataset_test_features[key]]))"
   ]
  },
  {
   "cell_type": "code",
   "execution_count": null,
   "metadata": {
    "execution": {
     "iopub.status.busy": "2023-05-31T14:46:56.023812Z",
     "iopub.status.idle": "2023-05-31T14:46:56.024335Z",
     "shell.execute_reply": "2023-05-31T14:46:56.024122Z",
     "shell.execute_reply.started": "2023-05-31T14:46:56.024090Z"
    }
   },
   "outputs": [],
   "source": [
    "new_feat = []\n",
    "for i in range(len(dataset_test_features['meanflat'])):\n",
    "    big_feat = []\n",
    "    for keyi in ['meanflat', 'stdflat', 'rmsflat', 'maxflat', 'minflat', 'varflat']:\n",
    "        print(keyi)\n",
    "        big_feat.append(dataset_test_features[keyi][i])\n",
    "        #plt.plot(dataset_train2[keyi][i])\n",
    "        #plt.show()\n",
    "    new_feat.append(np.asarray(np.concatenate(big_feat)))\n",
    "dataset_test_features['new_feat'] = new_feat\n",
    "    #plt.plot(np.asarray(np.concatenate(big_feat)))\n",
    "    #plt.show()\n",
    "    #break"
   ]
  },
  {
   "cell_type": "code",
   "execution_count": null,
   "metadata": {
    "execution": {
     "iopub.status.busy": "2023-05-31T14:46:56.026612Z",
     "iopub.status.idle": "2023-05-31T14:46:56.027194Z",
     "shell.execute_reply": "2023-05-31T14:46:56.026924Z",
     "shell.execute_reply.started": "2023-05-31T14:46:56.026895Z"
    }
   },
   "outputs": [],
   "source": [
    "dataset_test_features['new_feat'][1].shape "
   ]
  },
  {
   "cell_type": "code",
   "execution_count": null,
   "metadata": {
    "execution": {
     "iopub.status.busy": "2023-05-31T14:46:56.028967Z",
     "iopub.status.idle": "2023-05-31T14:46:56.029750Z",
     "shell.execute_reply": "2023-05-31T14:46:56.029473Z",
     "shell.execute_reply.started": "2023-05-31T14:46:56.029432Z"
    }
   },
   "outputs": [],
   "source": [
    "y_pred = pipe2.predict(np.asarray(np.array([flatting_array_consecutive(x) for x in dataset_test_features['new_feat']])))\n",
    "y_pred.shape\n",
    "#accuracy_score(integer_to_onehot(np.asarray(y_one_value), n_labels=3), integer_to_onehot(tf.argmax(y_pred, axis=1), n_labels=3))"
   ]
  },
  {
   "cell_type": "code",
   "execution_count": null,
   "metadata": {
    "execution": {
     "iopub.status.busy": "2023-05-31T14:46:56.031826Z",
     "iopub.status.idle": "2023-05-31T14:46:56.032761Z",
     "shell.execute_reply": "2023-05-31T14:46:56.032532Z",
     "shell.execute_reply.started": "2023-05-31T14:46:56.032501Z"
    }
   },
   "outputs": [],
   "source": [
    "#plt.plot(y_one_value, 'k')\n",
    "plt.plot(tf.argmax(y_pred, axis=1), 'r--')\n",
    "plt.show()"
   ]
  },
  {
   "cell_type": "code",
   "execution_count": null,
   "metadata": {},
   "outputs": [],
   "source": []
  }
 ],
 "metadata": {
  "kernelspec": {
   "display_name": "Python 3 (ipykernel)",
   "language": "python",
   "name": "python3"
  },
  "language_info": {
   "codemirror_mode": {
    "name": "ipython",
    "version": 3
   },
   "file_extension": ".py",
   "mimetype": "text/x-python",
   "name": "python",
   "nbconvert_exporter": "python",
   "pygments_lexer": "ipython3",
   "version": "3.8.17"
  }
 },
 "nbformat": 4,
 "nbformat_minor": 4
}
